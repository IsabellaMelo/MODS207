{
 "cells": [
  {
   "cell_type": "code",
   "execution_count": 82,
   "metadata": {},
   "outputs": [],
   "source": [
    "# pip install pyarrow"
   ]
  },
  {
   "cell_type": "code",
   "execution_count": 83,
   "metadata": {},
   "outputs": [],
   "source": [
    "import pandas as pd\n",
    "import numpy as np\n",
    "import pyarrow\n",
    "import matplotlib.pyplot as plt\n",
    "import scipy.stats as st\n",
    "import seaborn as sns"
   ]
  },
  {
   "cell_type": "code",
   "execution_count": 84,
   "metadata": {},
   "outputs": [],
   "source": [
    "data = pd.read_csv('dados_enem.csv', sep=';', encoding='latin-1')"
   ]
  },
  {
   "cell_type": "code",
   "execution_count": 85,
   "metadata": {
    "scrolled": true
   },
   "outputs": [
    {
     "data": {
      "text/html": [
       "<div>\n",
       "<style scoped>\n",
       "    .dataframe tbody tr th:only-of-type {\n",
       "        vertical-align: middle;\n",
       "    }\n",
       "\n",
       "    .dataframe tbody tr th {\n",
       "        vertical-align: top;\n",
       "    }\n",
       "\n",
       "    .dataframe thead th {\n",
       "        text-align: right;\n",
       "    }\n",
       "</style>\n",
       "<table border=\"1\" class=\"dataframe\">\n",
       "  <thead>\n",
       "    <tr style=\"text-align: right;\">\n",
       "      <th></th>\n",
       "      <th>NU_INSCRICAO</th>\n",
       "      <th>NU_ANO</th>\n",
       "      <th>CO_MUNICIPIO_RESIDENCIA</th>\n",
       "      <th>NO_MUNICIPIO_RESIDENCIA</th>\n",
       "      <th>CO_UF_RESIDENCIA</th>\n",
       "      <th>SG_UF_RESIDENCIA</th>\n",
       "      <th>NU_IDADE</th>\n",
       "      <th>TP_SEXO</th>\n",
       "      <th>TP_ESTADO_CIVIL</th>\n",
       "      <th>TP_COR_RACA</th>\n",
       "      <th>...</th>\n",
       "      <th>Q016</th>\n",
       "      <th>Q017</th>\n",
       "      <th>Q018</th>\n",
       "      <th>Q019</th>\n",
       "      <th>Q020</th>\n",
       "      <th>Q021</th>\n",
       "      <th>Q022</th>\n",
       "      <th>Q023</th>\n",
       "      <th>Q024</th>\n",
       "      <th>Q025</th>\n",
       "    </tr>\n",
       "  </thead>\n",
       "  <tbody>\n",
       "    <tr>\n",
       "      <th>0</th>\n",
       "      <td>190001004627</td>\n",
       "      <td>2019</td>\n",
       "      <td>1506807</td>\n",
       "      <td>Santarém</td>\n",
       "      <td>15</td>\n",
       "      <td>PA</td>\n",
       "      <td>21</td>\n",
       "      <td>M</td>\n",
       "      <td>1</td>\n",
       "      <td>3</td>\n",
       "      <td>...</td>\n",
       "      <td>A</td>\n",
       "      <td>A</td>\n",
       "      <td>A</td>\n",
       "      <td>C</td>\n",
       "      <td>B</td>\n",
       "      <td>A</td>\n",
       "      <td>D</td>\n",
       "      <td>A</td>\n",
       "      <td>B</td>\n",
       "      <td>A</td>\n",
       "    </tr>\n",
       "    <tr>\n",
       "      <th>1</th>\n",
       "      <td>190001004628</td>\n",
       "      <td>2019</td>\n",
       "      <td>1504059</td>\n",
       "      <td>Mãe do Rio</td>\n",
       "      <td>15</td>\n",
       "      <td>PA</td>\n",
       "      <td>16</td>\n",
       "      <td>F</td>\n",
       "      <td>1</td>\n",
       "      <td>3</td>\n",
       "      <td>...</td>\n",
       "      <td>A</td>\n",
       "      <td>A</td>\n",
       "      <td>A</td>\n",
       "      <td>B</td>\n",
       "      <td>B</td>\n",
       "      <td>A</td>\n",
       "      <td>B</td>\n",
       "      <td>A</td>\n",
       "      <td>A</td>\n",
       "      <td>A</td>\n",
       "    </tr>\n",
       "    <tr>\n",
       "      <th>2</th>\n",
       "      <td>190001004629</td>\n",
       "      <td>2019</td>\n",
       "      <td>1505502</td>\n",
       "      <td>Paragominas</td>\n",
       "      <td>15</td>\n",
       "      <td>PA</td>\n",
       "      <td>18</td>\n",
       "      <td>F</td>\n",
       "      <td>1</td>\n",
       "      <td>1</td>\n",
       "      <td>...</td>\n",
       "      <td>B</td>\n",
       "      <td>A</td>\n",
       "      <td>A</td>\n",
       "      <td>D</td>\n",
       "      <td>B</td>\n",
       "      <td>B</td>\n",
       "      <td>D</td>\n",
       "      <td>A</td>\n",
       "      <td>C</td>\n",
       "      <td>B</td>\n",
       "    </tr>\n",
       "    <tr>\n",
       "      <th>3</th>\n",
       "      <td>190001004630</td>\n",
       "      <td>2019</td>\n",
       "      <td>1507706</td>\n",
       "      <td>São Sebastião da Boa Vista</td>\n",
       "      <td>15</td>\n",
       "      <td>PA</td>\n",
       "      <td>23</td>\n",
       "      <td>M</td>\n",
       "      <td>0</td>\n",
       "      <td>3</td>\n",
       "      <td>...</td>\n",
       "      <td>A</td>\n",
       "      <td>A</td>\n",
       "      <td>A</td>\n",
       "      <td>C</td>\n",
       "      <td>A</td>\n",
       "      <td>A</td>\n",
       "      <td>D</td>\n",
       "      <td>A</td>\n",
       "      <td>A</td>\n",
       "      <td>A</td>\n",
       "    </tr>\n",
       "    <tr>\n",
       "      <th>4</th>\n",
       "      <td>190001004631</td>\n",
       "      <td>2019</td>\n",
       "      <td>1503903</td>\n",
       "      <td>Juruti</td>\n",
       "      <td>15</td>\n",
       "      <td>PA</td>\n",
       "      <td>23</td>\n",
       "      <td>M</td>\n",
       "      <td>1</td>\n",
       "      <td>3</td>\n",
       "      <td>...</td>\n",
       "      <td>A</td>\n",
       "      <td>A</td>\n",
       "      <td>A</td>\n",
       "      <td>B</td>\n",
       "      <td>A</td>\n",
       "      <td>A</td>\n",
       "      <td>D</td>\n",
       "      <td>A</td>\n",
       "      <td>A</td>\n",
       "      <td>A</td>\n",
       "    </tr>\n",
       "  </tbody>\n",
       "</table>\n",
       "<p>5 rows × 136 columns</p>\n",
       "</div>"
      ],
      "text/plain": [
       "   NU_INSCRICAO  NU_ANO  CO_MUNICIPIO_RESIDENCIA     NO_MUNICIPIO_RESIDENCIA  \\\n",
       "0  190001004627    2019                  1506807                    Santarém   \n",
       "1  190001004628    2019                  1504059                  Mãe do Rio   \n",
       "2  190001004629    2019                  1505502                 Paragominas   \n",
       "3  190001004630    2019                  1507706  São Sebastião da Boa Vista   \n",
       "4  190001004631    2019                  1503903                      Juruti   \n",
       "\n",
       "   CO_UF_RESIDENCIA SG_UF_RESIDENCIA  NU_IDADE TP_SEXO  TP_ESTADO_CIVIL  \\\n",
       "0                15               PA        21       M                1   \n",
       "1                15               PA        16       F                1   \n",
       "2                15               PA        18       F                1   \n",
       "3                15               PA        23       M                0   \n",
       "4                15               PA        23       M                1   \n",
       "\n",
       "   TP_COR_RACA  ...  Q016  Q017 Q018  Q019 Q020  Q021  Q022  Q023  Q024  Q025  \n",
       "0            3  ...     A     A    A     C    B     A     D     A     B     A  \n",
       "1            3  ...     A     A    A     B    B     A     B     A     A     A  \n",
       "2            1  ...     B     A    A     D    B     B     D     A     C     B  \n",
       "3            3  ...     A     A    A     C    A     A     D     A     A     A  \n",
       "4            3  ...     A     A    A     B    A     A     D     A     A     A  \n",
       "\n",
       "[5 rows x 136 columns]"
      ]
     },
     "execution_count": 85,
     "metadata": {},
     "output_type": "execute_result"
    }
   ],
   "source": [
    "data.head()"
   ]
  },
  {
   "cell_type": "code",
   "execution_count": 86,
   "metadata": {},
   "outputs": [],
   "source": [
    "def plot_histogram(x, x_l=\"Data\", y_l=\"Values\", title=\"Histogram\", optimal=False, bins=50):\n",
    "    if optimal==True:\n",
    "        q25, q75 = np.percentile(x,[25,75])\n",
    "        bin_width = 2*(q75 - q25)*len(x)**(-1/3)\n",
    "        bins = round((x.max() - x.min())/bin_width)\n",
    "    else:\n",
    "        bins=bins\n",
    "    plt.figure(figsize=(20,10))\n",
    "    plt.hist(x, density=True, bins=bins, label=\"Data\")\n",
    "    mn, mx = plt.xlim()\n",
    "    #plt.xlim(mn, mx)\n",
    "    #kde_xs = np.linspace(mn, mx, 300)\n",
    "    #kde = st.gaussian_kde(x)\n",
    "    #plt.plot(kde_xs, kde.pdf(kde_xs), label=\"PDF\")\n",
    "    #plt.legend(loc=\"upper left\")\n",
    "    plt.ylabel(y_l)\n",
    "    plt.xlabel(x_l)\n",
    "    plt.title(title);"
   ]
  },
  {
   "cell_type": "markdown",
   "metadata": {},
   "source": [
    "### Reduced dataset"
   ]
  },
  {
   "cell_type": "code",
   "execution_count": 87,
   "metadata": {},
   "outputs": [],
   "source": [
    "#backup = data.copy()"
   ]
  },
  {
   "cell_type": "code",
   "execution_count": 88,
   "metadata": {},
   "outputs": [],
   "source": [
    "df = data.sample(frac=0.05,random_state=200).reset_index(drop=True)\n",
    "#df = data.copy() # Uncomment it when you want to use the full dataset for the analysis"
   ]
  },
  {
   "cell_type": "markdown",
   "metadata": {},
   "source": [
    "### Filtering some data"
   ]
  },
  {
   "cell_type": "code",
   "execution_count": 89,
   "metadata": {},
   "outputs": [],
   "source": [
    "# Treineiro\n",
    "df = df[df.IN_TREINEIRO==0]\n",
    "# Conclusao ensino medio\n",
    "df = df[(df.TP_ST_CONCLUSAO==1)|(df.TP_ST_CONCLUSAO==2)]\n",
    "# Escolas publicas ou privadas\n",
    "df = df[(df.TP_ESCOLA==2)|(df.TP_ESCOLA==3)]\n",
    "# Cor/Raca declarados\n",
    "df = df[df.TP_COR_RACA!=0]\n",
    "\n",
    "# Remove \"I don't know answers\"\n",
    "df = df[df.Q001!='H']\n",
    "# Remove \"I don't know answers\"\n",
    "df = df[df.Q002!='H']\n",
    "# Remove \"I don't know answers\"\n",
    "df = df[df.Q003!='F']\n",
    "# Remove \"I don't know answers\"\n",
    "df = df[df.Q004!='F']"
   ]
  },
  {
   "cell_type": "markdown",
   "metadata": {},
   "source": [
    "### Selecting our features"
   ]
  },
  {
   "cell_type": "code",
   "execution_count": 91,
   "metadata": {},
   "outputs": [],
   "source": [
    "selected = ['NU_NOTA_MT', \n",
    "            'NU_NOTA_CN',\n",
    "            'NU_NOTA_CH',\n",
    "            'NU_NOTA_LC',\n",
    "            'NU_NOTA_REDACAO',\n",
    "           'TP_COR_RACA',\n",
    "           'TP_ESCOLA',\n",
    "           'CO_UF_RESIDENCIA',\n",
    "           'Q001',\n",
    "           'Q002',\n",
    "           'Q003',\n",
    "           'Q004',\n",
    "           'Q006',\n",
    "           'Q008',\n",
    "           'Q009',\n",
    "           'Q025']"
   ]
  },
  {
   "cell_type": "code",
   "execution_count": 92,
   "metadata": {},
   "outputs": [],
   "source": [
    "df = df[selected].dropna().reset_index(drop=True)"
   ]
  },
  {
   "cell_type": "code",
   "execution_count": 93,
   "metadata": {},
   "outputs": [],
   "source": [
    "total = len(df)"
   ]
  },
  {
   "cell_type": "markdown",
   "metadata": {},
   "source": [
    "## Grade - Math"
   ]
  },
  {
   "cell_type": "code",
   "execution_count": 94,
   "metadata": {},
   "outputs": [],
   "source": [
    "x = df.NU_NOTA_MT"
   ]
  },
  {
   "cell_type": "code",
   "execution_count": 95,
   "metadata": {},
   "outputs": [
    {
     "data": {
      "text/plain": [
       "count    46426.000000\n",
       "mean       529.931090\n",
       "std        110.576308\n",
       "min          0.000000\n",
       "25%        440.500000\n",
       "50%        508.100000\n",
       "75%        607.800000\n",
       "max        985.000000\n",
       "Name: NU_NOTA_MT, dtype: float64"
      ]
     },
     "execution_count": 95,
     "metadata": {},
     "output_type": "execute_result"
    }
   ],
   "source": [
    "x.describe()"
   ]
  },
  {
   "cell_type": "code",
   "execution_count": 96,
   "metadata": {},
   "outputs": [
    {
     "data": {
      "image/png": "[encoded data removed]",
      "text/plain": [
       "<Figure size 1440x720 with 1 Axes>"
      ]
     },
     "metadata": {
      "needs_background": "light"
     },
     "output_type": "display_data"
    }
   ],
   "source": [
    "plot_histogram(x, x_l='Grades',title='Math grades distribution', optimal=True)"
   ]
  },
  {
   "cell_type": "markdown",
   "metadata": {},
   "source": [
    "## Grade - Nature Sciences"
   ]
  },
  {
   "cell_type": "code",
   "execution_count": 99,
   "metadata": {},
   "outputs": [],
   "source": [
    "x = df.NU_NOTA_CN"
   ]
  },
  {
   "cell_type": "code",
   "execution_count": 100,
   "metadata": {},
   "outputs": [
    {
     "data": {
      "text/plain": [
       "count    46426.000000\n",
       "mean       477.810658\n",
       "std         76.544958\n",
       "min          0.000000\n",
       "25%        416.500000\n",
       "50%        470.400000\n",
       "75%        534.700000\n",
       "max        853.500000\n",
       "Name: NU_NOTA_CN, dtype: float64"
      ]
     },
     "execution_count": 100,
     "metadata": {},
     "output_type": "execute_result"
    }
   ],
   "source": [
    "x.describe()"
   ]
  },
  {
   "cell_type": "code",
   "execution_count": 101,
   "metadata": {},
   "outputs": [
    {
     "data": {
      "image/png": "[encoded data removed]",
      "text/plain": [
       "<Figure size 1440x720 with 1 Axes>"
      ]
     },
     "metadata": {
      "needs_background": "light"
     },
     "output_type": "display_data"
    }
   ],
   "source": [
    "plot_histogram(x, x_l='Grades',title='Nature Sciences grades distribution', optimal=True)"
   ]
  },
  {
   "cell_type": "markdown",
   "metadata": {},
   "source": [
    "## Grade - Human Sciences"
   ]
  },
  {
   "cell_type": "code",
   "execution_count": 102,
   "metadata": {},
   "outputs": [],
   "source": [
    "x = df.NU_NOTA_CH"
   ]
  },
  {
   "cell_type": "code",
   "execution_count": 103,
   "metadata": {},
   "outputs": [
    {
     "data": {
      "text/plain": [
       "count    46426.000000\n",
       "mean       509.830750\n",
       "std         80.976717\n",
       "min          0.000000\n",
       "25%        450.225000\n",
       "50%        513.900000\n",
       "75%        569.000000\n",
       "max        790.300000\n",
       "Name: NU_NOTA_CH, dtype: float64"
      ]
     },
     "execution_count": 103,
     "metadata": {},
     "output_type": "execute_result"
    }
   ],
   "source": [
    "x.describe()"
   ]
  },
  {
   "cell_type": "code",
   "execution_count": 104,
   "metadata": {},
   "outputs": [
    {
     "data": {
      "image/png": "[encoded data removed]",
      "text/plain": [
       "<Figure size 1440x720 with 1 Axes>"
      ]
     },
     "metadata": {
      "needs_background": "light"
     },
     "output_type": "display_data"
    }
   ],
   "source": [
    "plot_histogram(x, x_l='Grades',title='Human Sciences grades distribution', optimal=True)"
   ]
  },
  {
   "cell_type": "markdown",
   "metadata": {},
   "source": [
    "## Grade - Language and Codes"
   ]
  },
  {
   "cell_type": "code",
   "execution_count": null,
   "metadata": {},
   "outputs": [],
   "source": []
  },
  {
   "cell_type": "code",
   "execution_count": 105,
   "metadata": {},
   "outputs": [],
   "source": [
    "x = df.NU_NOTA_LC"
   ]
  },
  {
   "cell_type": "code",
   "execution_count": 106,
   "metadata": {},
   "outputs": [
    {
     "data": {
      "text/plain": [
       "count    46426.000000\n",
       "mean       521.854086\n",
       "std         63.734001\n",
       "min          0.000000\n",
       "25%        484.300000\n",
       "50%        527.700000\n",
       "75%        567.300000\n",
       "max        738.400000\n",
       "Name: NU_NOTA_LC, dtype: float64"
      ]
     },
     "execution_count": 106,
     "metadata": {},
     "output_type": "execute_result"
    }
   ],
   "source": [
    "x.describe()"
   ]
  },
  {
   "cell_type": "code",
   "execution_count": 107,
   "metadata": {},
   "outputs": [
    {
     "data": {
      "image/png": "[encoded data removed]",
      "text/plain": [
       "<Figure size 1440x720 with 1 Axes>"
      ]
     },
     "metadata": {
      "needs_background": "light"
     },
     "output_type": "display_data"
    }
   ],
   "source": [
    "plot_histogram(x, x_l='Grades',title='Language and Codes grades distribution', optimal=True)"
   ]
  },
  {
   "cell_type": "markdown",
   "metadata": {},
   "source": [
    "## Grade - Essay"
   ]
  },
  {
   "cell_type": "code",
   "execution_count": 108,
   "metadata": {},
   "outputs": [],
   "source": [
    "x = df.NU_NOTA_REDACAO"
   ]
  },
  {
   "cell_type": "code",
   "execution_count": 109,
   "metadata": {},
   "outputs": [
    {
     "data": {
      "text/plain": [
       "count    46426.000000\n",
       "mean       593.338646\n",
       "std        188.735138\n",
       "min          0.000000\n",
       "25%        500.000000\n",
       "50%        600.000000\n",
       "75%        700.000000\n",
       "max       1000.000000\n",
       "Name: NU_NOTA_REDACAO, dtype: float64"
      ]
     },
     "execution_count": 109,
     "metadata": {},
     "output_type": "execute_result"
    }
   ],
   "source": [
    "x.describe()"
   ]
  },
  {
   "cell_type": "code",
   "execution_count": 110,
   "metadata": {},
   "outputs": [
    {
     "data": {
      "image/png": "[encoded data removed]",
      "text/plain": [
       "<Figure size 1440x720 with 1 Axes>"
      ]
     },
     "metadata": {
      "needs_background": "light"
     },
     "output_type": "display_data"
    }
   ],
   "source": [
    "plot_histogram(x, x_l='Grades',title='Essay grades distribution', optimal=True)"
   ]
  },
  {
   "cell_type": "markdown",
   "metadata": {},
   "source": [
    "## Income"
   ]
  },
  {
   "cell_type": "code",
   "execution_count": 16,
   "metadata": {},
   "outputs": [],
   "source": [
    "x = (df.Q006.value_counts().sort_index()/total)*100"
   ]
  },
  {
   "cell_type": "code",
   "execution_count": 17,
   "metadata": {},
   "outputs": [
    {
     "data": {
      "text/plain": [
       "<BarContainer object of 17 artists>"
      ]
     },
     "execution_count": 17,
     "metadata": {},
     "output_type": "execute_result"
    },
    {
     "data": {
      "image/png": "[encoded data removed]",
      "text/plain": [
       "<Figure size 1440x720 with 1 Axes>"
      ]
     },
     "metadata": {
      "needs_background": "light"
     },
     "output_type": "display_data"
    }
   ],
   "source": [
    "plt.figure(figsize=(20,10))\n",
    "plt.title('Income')\n",
    "plt.ylabel('Percentage of students')\n",
    "plt.xlabel('Income')\n",
    "plt.bar(x.index, x)"
   ]
  },
  {
   "cell_type": "code",
   "execution_count": 18,
   "metadata": {},
   "outputs": [
    {
     "data": {
      "text/plain": [
       "<matplotlib.axes._subplots.AxesSubplot at 0x143bf4c1100>"
      ]
     },
     "execution_count": 18,
     "metadata": {},
     "output_type": "execute_result"
    },
    {
     "data": {
      "image/png": "[encoded data removed]",
      "text/plain": [
       "<Figure size 432x288 with 1 Axes>"
      ]
     },
     "metadata": {
      "needs_background": "light"
     },
     "output_type": "display_data"
    }
   ],
   "source": [
    "sns.boxplot(y='NU_NOTA_MT', x='Q006', \n",
    "                 data=df, order=[\"A\", \"B\", \"C\", \"D\", \"E\", \"F\", \"G\", \"H\", \"I\", \"J\", 'K', 'L', 'M', 'N', 'O', 'P', 'Q'])"
   ]
  },
  {
   "cell_type": "code",
   "execution_count": 114,
   "metadata": {},
   "outputs": [
    {
     "data": {
      "text/plain": [
       "<matplotlib.axes._subplots.AxesSubplot at 0x145545ed670>"
      ]
     },
     "execution_count": 114,
     "metadata": {},
     "output_type": "execute_result"
    },
    {
     "data": {
      "image/png": "[encoded data removed]",
      "text/plain": [
       "<Figure size 432x288 with 1 Axes>"
      ]
     },
     "metadata": {
      "needs_background": "light"
     },
     "output_type": "display_data"
    }
   ],
   "source": [
    "sns.boxplot(y='NU_NOTA_CN', x='Q006', \n",
    "                 data=df, order=[\"A\", \"B\", \"C\", \"D\", \"E\", \"F\", \"G\", \"H\", \"I\", \"J\", 'K', 'L', 'M', 'N', 'O', 'P', 'Q'])"
   ]
  },
  {
   "cell_type": "code",
   "execution_count": 113,
   "metadata": {},
   "outputs": [
    {
     "data": {
      "text/plain": [
       "<matplotlib.axes._subplots.AxesSubplot at 0x145526197f0>"
      ]
     },
     "execution_count": 113,
     "metadata": {},
     "output_type": "execute_result"
    },
    {
     "data": {
      "image/png": "[encoded data removed]",
      "text/plain": [
       "<Figure size 432x288 with 1 Axes>"
      ]
     },
     "metadata": {
      "needs_background": "light"
     },
     "output_type": "display_data"
    }
   ],
   "source": [
    "sns.boxplot(y='NU_NOTA_CH', x='Q006', \n",
    "                 data=df, order=[\"A\", \"B\", \"C\", \"D\", \"E\", \"F\", \"G\", \"H\", \"I\", \"J\", 'K', 'L', 'M', 'N', 'O', 'P', 'Q'])"
   ]
  },
  {
   "cell_type": "code",
   "execution_count": 115,
   "metadata": {},
   "outputs": [
    {
     "data": {
      "text/plain": [
       "<matplotlib.axes._subplots.AxesSubplot at 0x1455ce16160>"
      ]
     },
     "execution_count": 115,
     "metadata": {},
     "output_type": "execute_result"
    },
    {
     "data": {
      "image/png": "[encoded data removed]",
      "text/plain": [
       "<Figure size 432x288 with 1 Axes>"
      ]
     },
     "metadata": {
      "needs_background": "light"
     },
     "output_type": "display_data"
    }
   ],
   "source": [
    "sns.boxplot(y='NU_NOTA_LC', x='Q006', \n",
    "                 data=df, order=[\"A\", \"B\", \"C\", \"D\", \"E\", \"F\", \"G\", \"H\", \"I\", \"J\", 'K', 'L', 'M', 'N', 'O', 'P', 'Q'])"
   ]
  },
  {
   "cell_type": "code",
   "execution_count": 116,
   "metadata": {},
   "outputs": [
    {
     "data": {
      "text/plain": [
       "<matplotlib.axes._subplots.AxesSubplot at 0x14554743ac0>"
      ]
     },
     "execution_count": 116,
     "metadata": {},
     "output_type": "execute_result"
    },
    {
     "data": {
      "image/png": "[encoded data removed]",
      "text/plain": [
       "<Figure size 432x288 with 1 Axes>"
      ]
     },
     "metadata": {
      "needs_background": "light"
     },
     "output_type": "display_data"
    }
   ],
   "source": [
    "sns.boxplot(y='NU_NOTA_REDACAO', x='Q006', \n",
    "                 data=df, order=[\"A\", \"B\", \"C\", \"D\", \"E\", \"F\", \"G\", \"H\", \"I\", \"J\", 'K', 'L', 'M', 'N', 'O', 'P', 'Q'])"
   ]
  },
  {
   "cell_type": "markdown",
   "metadata": {},
   "source": [
    "## Type of School"
   ]
  },
  {
   "cell_type": "code",
   "execution_count": 19,
   "metadata": {},
   "outputs": [],
   "source": [
    "x = (df.TP_ESCOLA.value_counts().sort_index()/total)*100"
   ]
  },
  {
   "cell_type": "code",
   "execution_count": 20,
   "metadata": {},
   "outputs": [
    {
     "data": {
      "text/plain": [
       "<BarContainer object of 2 artists>"
      ]
     },
     "execution_count": 20,
     "metadata": {},
     "output_type": "execute_result"
    },
    {
     "data": {
      "image/png": "[encoded data removed]",
      "text/plain": [
       "<Figure size 360x504 with 1 Axes>"
      ]
     },
     "metadata": {
      "needs_background": "light"
     },
     "output_type": "display_data"
    }
   ],
   "source": [
    "plt.figure(figsize=(5,7))\n",
    "plt.title('Type of School')\n",
    "plt.ylabel('Percentage of students')\n",
    "plt.bar(['Public','Private'], x)"
   ]
  },
  {
   "cell_type": "code",
   "execution_count": 21,
   "metadata": {},
   "outputs": [
    {
     "name": "stdout",
     "output_type": "stream",
     "text": [
      "TP_ESCOLA      2    3\n",
      "Q006                 \n",
      "A           1774   47\n",
      "B          10211  300\n",
      "C           9906  630\n",
      "D           3469  575\n",
      "E           4074  561\n",
      "F           1686  570\n",
      "G           2629  717\n",
      "H           1344  753\n",
      "I           1069  684\n",
      "J            455  463\n",
      "K            370  356\n",
      "L            217  361\n",
      "M            199  348\n",
      "N            221  546\n",
      "O            151  462\n",
      "P             86  471\n",
      "Q             58  742\n"
     ]
    },
    {
     "data": {
      "text/plain": [
       "<matplotlib.axes._subplots.AxesSubplot at 0x14324542220>"
      ]
     },
     "execution_count": 21,
     "metadata": {},
     "output_type": "execute_result"
    },
    {
     "data": {
      "image/png": "[encoded data removed]",
      "text/plain": [
       "<Figure size 576x576 with 1 Axes>"
      ]
     },
     "metadata": {
      "needs_background": "light"
     },
     "output_type": "display_data"
    }
   ],
   "source": [
    "table = pd.crosstab(df.Q006, df.TP_ESCOLA)\n",
    "print(table)\n",
    "table.plot(kind=\"bar\", \n",
    "                 figsize=(8,8),\n",
    "                 stacked=True)"
   ]
  },
  {
   "cell_type": "code",
   "execution_count": 22,
   "metadata": {},
   "outputs": [
    {
     "data": {
      "text/plain": [
       "<matplotlib.axes._subplots.AxesSubplot at 0x143245c6670>"
      ]
     },
     "execution_count": 22,
     "metadata": {},
     "output_type": "execute_result"
    },
    {
     "data": {
      "image/png": "[encoded data removed]",
      "text/plain": [
       "<Figure size 432x288 with 1 Axes>"
      ]
     },
     "metadata": {
      "needs_background": "light"
     },
     "output_type": "display_data"
    }
   ],
   "source": [
    "sns.boxplot(y='NU_NOTA_MT', x='TP_ESCOLA', \n",
    "                 data=df)"
   ]
  },
  {
   "cell_type": "code",
   "execution_count": 117,
   "metadata": {},
   "outputs": [
    {
     "data": {
      "text/plain": [
       "<matplotlib.axes._subplots.AxesSubplot at 0x14554730af0>"
      ]
     },
     "execution_count": 117,
     "metadata": {},
     "output_type": "execute_result"
    },
    {
     "data": {
      "image/png": "[encoded data removed]",
      "text/plain": [
       "<Figure size 432x288 with 1 Axes>"
      ]
     },
     "metadata": {
      "needs_background": "light"
     },
     "output_type": "display_data"
    }
   ],
   "source": [
    "sns.boxplot(y='NU_NOTA_CN', x='TP_ESCOLA', \n",
    "                 data=df)"
   ]
  },
  {
   "cell_type": "code",
   "execution_count": 118,
   "metadata": {},
   "outputs": [
    {
     "data": {
      "text/plain": [
       "<matplotlib.axes._subplots.AxesSubplot at 0x1455ae94400>"
      ]
     },
     "execution_count": 118,
     "metadata": {},
     "output_type": "execute_result"
    },
    {
     "data": {
      "image/png": "[encoded data removed]",
      "text/plain": [
       "<Figure size 432x288 with 1 Axes>"
      ]
     },
     "metadata": {
      "needs_background": "light"
     },
     "output_type": "display_data"
    }
   ],
   "source": [
    "sns.boxplot(y='NU_NOTA_CH', x='TP_ESCOLA', \n",
    "                 data=df)"
   ]
  },
  {
   "cell_type": "code",
   "execution_count": 119,
   "metadata": {},
   "outputs": [
    {
     "data": {
      "text/plain": [
       "<matplotlib.axes._subplots.AxesSubplot at 0x1455aee18e0>"
      ]
     },
     "execution_count": 119,
     "metadata": {},
     "output_type": "execute_result"
    },
    {
     "data": {
      "image/png": "[encoded data removed]",
      "text/plain": [
       "<Figure size 432x288 with 1 Axes>"
      ]
     },
     "metadata": {
      "needs_background": "light"
     },
     "output_type": "display_data"
    }
   ],
   "source": [
    "sns.boxplot(y='NU_NOTA_LC', x='TP_ESCOLA', \n",
    "                 data=df)"
   ]
  },
  {
   "cell_type": "code",
   "execution_count": 120,
   "metadata": {},
   "outputs": [
    {
     "data": {
      "text/plain": [
       "<matplotlib.axes._subplots.AxesSubplot at 0x1455af47310>"
      ]
     },
     "execution_count": 120,
     "metadata": {},
     "output_type": "execute_result"
    },
    {
     "data": {
      "image/png": "[encoded data removed]",
      "text/plain": [
       "<Figure size 432x288 with 1 Axes>"
      ]
     },
     "metadata": {
      "needs_background": "light"
     },
     "output_type": "display_data"
    }
   ],
   "source": [
    "sns.boxplot(y='NU_NOTA_REDACAO', x='TP_ESCOLA', \n",
    "                 data=df)"
   ]
  },
  {
   "cell_type": "markdown",
   "metadata": {},
   "source": [
    "## Student Region"
   ]
  },
  {
   "cell_type": "code",
   "execution_count": 122,
   "metadata": {},
   "outputs": [],
   "source": [
    "df['REGION'] = (df['CO_UF_RESIDENCIA'].astype(str).str[:1]).astype(int)"
   ]
  },
  {
   "cell_type": "code",
   "execution_count": 123,
   "metadata": {},
   "outputs": [],
   "source": [
    "x = (df.REGION.value_counts().sort_index()/total)*100"
   ]
  },
  {
   "cell_type": "code",
   "execution_count": 124,
   "metadata": {},
   "outputs": [
    {
     "data": {
      "text/plain": [
       "<BarContainer object of 5 artists>"
      ]
     },
     "execution_count": 124,
     "metadata": {},
     "output_type": "execute_result"
    },
    {
     "data": {
      "image/png": "[encoded data removed]",
      "text/plain": [
       "<Figure size 360x504 with 1 Axes>"
      ]
     },
     "metadata": {
      "needs_background": "light"
     },
     "output_type": "display_data"
    }
   ],
   "source": [
    "plt.figure(figsize=(5,7))\n",
    "plt.title('Student Region')\n",
    "plt.ylabel('Percentage of students')\n",
    "plt.bar(['North', 'Northeast', 'Southeast', 'South', 'Center-West'], x)"
   ]
  },
  {
   "cell_type": "code",
   "execution_count": 125,
   "metadata": {},
   "outputs": [
    {
     "name": "stdout",
     "output_type": "stream",
     "text": [
      "REGION     1     2     3     4    5\n",
      "Q006                               \n",
      "A        251  1196   267    52   43\n",
      "B       1396  6082  2009   432  558\n",
      "C       1124  3546  3821  1077  952\n",
      "D        295   871  1855   637  378\n",
      "E        257   800  2250   867  457\n",
      "F        120   348  1062   527  199\n",
      "G        204   453  1714   669  304\n",
      "H        106   296  1088   426  181\n",
      "I         93   262   886   339  172\n",
      "J         57   145   465   158   93\n",
      "K         36    89   395   131   75\n",
      "L         27    80   305   106   59\n",
      "M         34    91   284    82   56\n",
      "N         39   108   426   117   77\n",
      "O         34    77   333   101   68\n",
      "P         26    79   306    83   63\n",
      "Q         22   124   461    99   93\n"
     ]
    },
    {
     "data": {
      "text/plain": [
       "<matplotlib.axes._subplots.AxesSubplot at 0x1455ae341f0>"
      ]
     },
     "execution_count": 125,
     "metadata": {},
     "output_type": "execute_result"
    },
    {
     "data": {
      "image/png": "[encoded data removed]",
      "text/plain": [
       "<Figure size 576x576 with 1 Axes>"
      ]
     },
     "metadata": {
      "needs_background": "light"
     },
     "output_type": "display_data"
    }
   ],
   "source": [
    "table = pd.crosstab(df.Q006, df.REGION)\n",
    "print(table)\n",
    "table.plot(kind=\"bar\", \n",
    "                 figsize=(8,8),\n",
    "                 stacked=True)"
   ]
  },
  {
   "cell_type": "code",
   "execution_count": 126,
   "metadata": {},
   "outputs": [
    {
     "data": {
      "text/plain": [
       "<matplotlib.axes._subplots.AxesSubplot at 0x1455bd684f0>"
      ]
     },
     "execution_count": 126,
     "metadata": {},
     "output_type": "execute_result"
    },
    {
     "data": {
      "image/png": "[encoded data removed]",
      "text/plain": [
       "<Figure size 432x288 with 1 Axes>"
      ]
     },
     "metadata": {
      "needs_background": "light"
     },
     "output_type": "display_data"
    }
   ],
   "source": [
    "sns.boxplot(y='NU_NOTA_MT', x='REGION', \n",
    "                 data=df)"
   ]
  },
  {
   "cell_type": "code",
   "execution_count": 127,
   "metadata": {},
   "outputs": [
    {
     "data": {
      "text/plain": [
       "<matplotlib.axes._subplots.AxesSubplot at 0x1455bbdf5b0>"
      ]
     },
     "execution_count": 127,
     "metadata": {},
     "output_type": "execute_result"
    },
    {
     "data": {
      "image/png": "[encoded data removed]",
      "text/plain": [
       "<Figure size 432x288 with 1 Axes>"
      ]
     },
     "metadata": {
      "needs_background": "light"
     },
     "output_type": "display_data"
    }
   ],
   "source": [
    "sns.boxplot(y='NU_NOTA_REDACAO', x='REGION', \n",
    "                 data=df)"
   ]
  },
  {
   "cell_type": "code",
   "execution_count": 128,
   "metadata": {},
   "outputs": [
    {
     "data": {
      "text/plain": [
       "<matplotlib.axes._subplots.AxesSubplot at 0x1455bb56460>"
      ]
     },
     "execution_count": 128,
     "metadata": {},
     "output_type": "execute_result"
    },
    {
     "data": {
      "image/png": "[encoded data removed]",
      "text/plain": [
       "<Figure size 432x288 with 1 Axes>"
      ]
     },
     "metadata": {
      "needs_background": "light"
     },
     "output_type": "display_data"
    }
   ],
   "source": [
    "sns.boxplot(y='NU_NOTA_CH', x='REGION', \n",
    "                 data=df)"
   ]
  },
  {
   "cell_type": "markdown",
   "metadata": {},
   "source": [
    "## Color/Race"
   ]
  },
  {
   "cell_type": "code",
   "execution_count": 28,
   "metadata": {},
   "outputs": [],
   "source": [
    "x = (df.TP_COR_RACA.value_counts().sort_index()/total)*100"
   ]
  },
  {
   "cell_type": "code",
   "execution_count": 29,
   "metadata": {},
   "outputs": [
    {
     "data": {
      "text/plain": [
       "<BarContainer object of 5 artists>"
      ]
     },
     "execution_count": 29,
     "metadata": {},
     "output_type": "execute_result"
    },
    {
     "data": {
      "image/png": "[encoded data removed]",
      "text/plain": [
       "<Figure size 360x504 with 1 Axes>"
      ]
     },
     "metadata": {
      "needs_background": "light"
     },
     "output_type": "display_data"
    }
   ],
   "source": [
    "plt.figure(figsize=(5,7))\n",
    "plt.title('Student Color/Race')\n",
    "plt.ylabel('Percentage of students')\n",
    "plt.bar(['White', 'Black', 'Brown', 'Yellow', 'Indigenous'], x)"
   ]
  },
  {
   "cell_type": "code",
   "execution_count": 30,
   "metadata": {},
   "outputs": [
    {
     "name": "stdout",
     "output_type": "stream",
     "text": [
      "TP_COR_RACA     1     2     3    4   5\n",
      "Q006                                  \n",
      "A             358   254  1145   47  17\n",
      "B            2357  1587  6199  273  95\n",
      "C            3414  1484  5322  252  64\n",
      "D            1764   438  1740   80  22\n",
      "E            2185   495  1838   96  21\n",
      "F            1249   190   768   41   8\n",
      "G            1832   260  1176   62  16\n",
      "H            1306   122   622   39   8\n",
      "I            1128   101   501   20   3\n",
      "J             622    47   228   19   2\n",
      "K             472    47   194   13   0\n",
      "L             398    22   141   14   3\n",
      "M             364    34   135   12   2\n",
      "N             549    35   160   23   0\n",
      "O             462    20   114   15   2\n",
      "P             445    13    88   10   1\n",
      "Q             670    15   102   13   0\n"
     ]
    },
    {
     "data": {
      "text/plain": [
       "<matplotlib.axes._subplots.AxesSubplot at 0x143225c70a0>"
      ]
     },
     "execution_count": 30,
     "metadata": {},
     "output_type": "execute_result"
    },
    {
     "data": {
      "image/png": "[encoded data removed]",
      "text/plain": [
       "<Figure size 576x576 with 1 Axes>"
      ]
     },
     "metadata": {
      "needs_background": "light"
     },
     "output_type": "display_data"
    }
   ],
   "source": [
    "table = pd.crosstab(df.Q006, df.TP_COR_RACA)\n",
    "print(table)\n",
    "table.plot(kind=\"bar\", \n",
    "                 figsize=(8,8),\n",
    "                 stacked=True)"
   ]
  },
  {
   "cell_type": "code",
   "execution_count": 31,
   "metadata": {},
   "outputs": [
    {
     "data": {
      "text/plain": [
       "<matplotlib.axes._subplots.AxesSubplot at 0x14322696b20>"
      ]
     },
     "execution_count": 31,
     "metadata": {},
     "output_type": "execute_result"
    },
    {
     "data": {
      "image/png": "[encoded data removed]",
      "text/plain": [
       "<Figure size 432x288 with 1 Axes>"
      ]
     },
     "metadata": {
      "needs_background": "light"
     },
     "output_type": "display_data"
    }
   ],
   "source": [
    "sns.boxplot(y='NU_NOTA_MT', x='TP_COR_RACA', \n",
    "                 data=df)"
   ]
  },
  {
   "cell_type": "markdown",
   "metadata": {},
   "source": [
    "## Father Formation"
   ]
  },
  {
   "cell_type": "markdown",
   "metadata": {},
   "source": [
    "- A\tNunca estudou.\n",
    "- B\tNão completou a 4ª série/5º ano do Ensino Fundamental.\n",
    "- C\tCompletou a 4ª série/5º ano, mas não completou a 8ª série/9º ano do Ensino Fundamental.\n",
    "- D\tCompletou a 8ª série/9º ano do Ensino Fundamental, mas não completou o Ensino Médio.\n",
    "- E\tCompletou o Ensino Médio, mas não completou a Faculdade.\n",
    "- F\tCompletou a Faculdade, mas não completou a Pós-graduação.\n",
    "- G\tCompletou a Pós-graduação.\n",
    "- H\tNão sei."
   ]
  },
  {
   "cell_type": "code",
   "execution_count": 32,
   "metadata": {},
   "outputs": [],
   "source": [
    "x = (df.Q001.value_counts().sort_index()/total)*100"
   ]
  },
  {
   "cell_type": "code",
   "execution_count": 33,
   "metadata": {},
   "outputs": [
    {
     "data": {
      "text/plain": [
       "<BarContainer object of 7 artists>"
      ]
     },
     "execution_count": 33,
     "metadata": {},
     "output_type": "execute_result"
    },
    {
     "data": {
      "image/png": "[encoded data removed]",
      "text/plain": [
       "<Figure size 360x504 with 1 Axes>"
      ]
     },
     "metadata": {
      "needs_background": "light"
     },
     "output_type": "display_data"
    }
   ],
   "source": [
    "plt.figure(figsize=(5,7))\n",
    "plt.title('Father Formation')\n",
    "plt.ylabel('Percentage of students')\n",
    "plt.bar(x.index, x)"
   ]
  },
  {
   "cell_type": "code",
   "execution_count": 34,
   "metadata": {},
   "outputs": [
    {
     "name": "stdout",
     "output_type": "stream",
     "text": [
      "Q001     A     B     C     D     E    F    G\n",
      "Q006                                        \n",
      "A      305   697   293   199   279   34   14\n",
      "B     1004  3489  2146  1579  2053  186   54\n",
      "C      370  2328  2084  1862  3353  413  126\n",
      "D       71   618   726   760  1508  258  103\n",
      "E       54   576   754   812  1947  368  124\n",
      "F        9   197   321   352  1001  271  105\n",
      "G       19   250   418   505  1487  476  191\n",
      "H        3    98   189   223   971  415  198\n",
      "I        5    57   133   175   771  380  232\n",
      "J        2    25    38    87   372  257  137\n",
      "K        1     9    36    58   262  216  144\n",
      "L        0     9    23    33   179  188  146\n",
      "M        1     9    18    28   155  193  143\n",
      "N        1     7    21    26   217  246  249\n",
      "O        0     6    12    24   105  213  253\n",
      "P        0     2    13    14    79  182  267\n",
      "Q        1     6    11    18    86  234  444\n"
     ]
    },
    {
     "data": {
      "text/plain": [
       "<matplotlib.axes._subplots.AxesSubplot at 0x143227338b0>"
      ]
     },
     "execution_count": 34,
     "metadata": {},
     "output_type": "execute_result"
    },
    {
     "data": {
      "image/png": "[encoded data removed]",
      "text/plain": [
       "<Figure size 576x576 with 1 Axes>"
      ]
     },
     "metadata": {
      "needs_background": "light"
     },
     "output_type": "display_data"
    }
   ],
   "source": [
    "table = pd.crosstab(df.Q006, df.Q001)\n",
    "print(table)\n",
    "table.plot(kind=\"bar\", \n",
    "                 figsize=(8,8),\n",
    "                 stacked=True)"
   ]
  },
  {
   "cell_type": "code",
   "execution_count": 35,
   "metadata": {},
   "outputs": [
    {
     "data": {
      "text/plain": [
       "<matplotlib.axes._subplots.AxesSubplot at 0x1432268af40>"
      ]
     },
     "execution_count": 35,
     "metadata": {},
     "output_type": "execute_result"
    },
    {
     "data": {
      "image/png": "[encoded data removed]",
      "text/plain": [
       "<Figure size 432x288 with 1 Axes>"
      ]
     },
     "metadata": {
      "needs_background": "light"
     },
     "output_type": "display_data"
    }
   ],
   "source": [
    "sns.boxplot(y='NU_NOTA_MT', x='Q001', \n",
    "                 data=df, order=[\"A\", \"B\", \"C\", \"D\", \"E\", \"F\", \"G\"])"
   ]
  },
  {
   "cell_type": "markdown",
   "metadata": {},
   "source": [
    "## Mother Formation"
   ]
  },
  {
   "cell_type": "code",
   "execution_count": 36,
   "metadata": {},
   "outputs": [],
   "source": [
    "x = (df.Q002.value_counts().sort_index()/total)*100"
   ]
  },
  {
   "cell_type": "code",
   "execution_count": 37,
   "metadata": {
    "scrolled": false
   },
   "outputs": [
    {
     "data": {
      "text/plain": [
       "<BarContainer object of 7 artists>"
      ]
     },
     "execution_count": 37,
     "metadata": {},
     "output_type": "execute_result"
    },
    {
     "data": {
      "image/png": "[encoded data removed]",
      "text/plain": [
       "<Figure size 360x504 with 1 Axes>"
      ]
     },
     "metadata": {
      "needs_background": "light"
     },
     "output_type": "display_data"
    }
   ],
   "source": [
    "plt.figure(figsize=(5,7))\n",
    "plt.title('Mother Formation')\n",
    "plt.ylabel('Percentage of students')\n",
    "plt.bar(x.index, x)"
   ]
  },
  {
   "cell_type": "code",
   "execution_count": 38,
   "metadata": {},
   "outputs": [
    {
     "name": "stdout",
     "output_type": "stream",
     "text": [
      "Q002    A     B     C     D     E    F    G\n",
      "Q006                                       \n",
      "A     205   507   336   269   444   40   20\n",
      "B     527  2453  2080  1786  3216  323  126\n",
      "C     228  1477  1703  1923  4189  706  310\n",
      "D      50   360   510   672  1773  455  224\n",
      "E      31   283   567   690  2077  610  377\n",
      "F       9   104   209   269   967  427  271\n",
      "G      10   131   245   393  1401  653  513\n",
      "H       3    51   100   174   785  531  453\n",
      "I       1    28    89   138   590  456  451\n",
      "J       0     9    28    44   283  286  268\n",
      "K       0     9    32    31   206  226  222\n",
      "L       1     3    12    15   154  185  208\n",
      "M       0     4    10    18   123  212  180\n",
      "N       0     1     7    20   168  263  308\n",
      "O       0     2     4    18   116  205  268\n",
      "P       0     2     3    10    79  217  246\n",
      "Q       1     1     6     8    73  302  409\n"
     ]
    },
    {
     "data": {
      "text/plain": [
       "<matplotlib.axes._subplots.AxesSubplot at 0x14324200610>"
      ]
     },
     "execution_count": 38,
     "metadata": {},
     "output_type": "execute_result"
    },
    {
     "data": {
      "image/png": "[encoded data removed]",
      "text/plain": [
       "<Figure size 576x576 with 1 Axes>"
      ]
     },
     "metadata": {
      "needs_background": "light"
     },
     "output_type": "display_data"
    }
   ],
   "source": [
    "table = pd.crosstab(df.Q006, df.Q002)\n",
    "print(table)\n",
    "table.plot(kind=\"bar\", \n",
    "                 figsize=(8,8),\n",
    "                 stacked=True)"
   ]
  },
  {
   "cell_type": "code",
   "execution_count": 39,
   "metadata": {},
   "outputs": [
    {
     "data": {
      "text/plain": [
       "<matplotlib.axes._subplots.AxesSubplot at 0x143245daee0>"
      ]
     },
     "execution_count": 39,
     "metadata": {},
     "output_type": "execute_result"
    },
    {
     "data": {
      "image/png": "[encoded data removed]",
      "text/plain": [
       "<Figure size 432x288 with 1 Axes>"
      ]
     },
     "metadata": {
      "needs_background": "light"
     },
     "output_type": "display_data"
    }
   ],
   "source": [
    "sns.boxplot(y='NU_NOTA_MT', x='Q002', \n",
    "                 data=df, order=[\"A\", \"B\", \"C\", \"D\", \"E\", \"F\", \"G\"])"
   ]
  },
  {
   "cell_type": "markdown",
   "metadata": {},
   "source": [
    "## Father Profession"
   ]
  },
  {
   "cell_type": "markdown",
   "metadata": {},
   "source": [
    "- A\tGrupo 1: Lavradora, agricultora sem empregados, bóia fria, criadora de animais (gado, porcos, galinhas, ovelhas, cavalos etc.), apicultora, pescadora, lenhadora, seringueira, extrativista.\n",
    "- B\tGrupo 2: Diarista, empregada doméstica, cuidadora de idosos, babá, cozinheira (em casas particulares), motorista particular, jardineira, faxineira de empresas e prédios, vigilante, porteira, carteira, office-boy, vendedora, caixa, atendente de loja, auxiliar administrativa, recepcionista, servente de pedreiro, repositora de mercadoria.\n",
    "- C\tGrupo 3: Padeira, cozinheira industrial ou em restaurantes, sapateira, costureira, joalheira, torneira mecânica, operadora de máquinas, soldadora, operária de fábrica, trabalhadora da mineração, pedreira, pintora, eletricista, encanadora, motorista, caminhoneira, taxista.\n",
    "- D\tGrupo 4: Professora (de ensino fundamental ou médio, idioma, música, artes etc.), técnica (de enfermagem, contabilidade, eletrônica etc.), policial, militar de baixa patente (soldado, cabo, sargento), corretora de imóveis, supervisora, gerente, mestre de obras, pastora, microempresária (proprietária de empresa com menos de 10 empregados), pequena comerciante, pequena proprietária de terras, trabalhadora autônoma ou por conta própria.\n",
    "- E\tGrupo 5: Médica, engenheira, dentista, psicóloga, economista, advogada, juíza, promotora, defensora, delegada, tenente, capitã, coronel, professora universitária, diretora em empresas públicas ou privadas, política, proprietária de empresas com mais de 10 empregados.\n",
    "- F\tNão sei."
   ]
  },
  {
   "cell_type": "code",
   "execution_count": 40,
   "metadata": {},
   "outputs": [],
   "source": [
    "x = (df.Q003.value_counts().sort_index()/total)*100"
   ]
  },
  {
   "cell_type": "code",
   "execution_count": 41,
   "metadata": {},
   "outputs": [
    {
     "data": {
      "text/plain": [
       "<BarContainer object of 5 artists>"
      ]
     },
     "execution_count": 41,
     "metadata": {},
     "output_type": "execute_result"
    },
    {
     "data": {
      "image/png": "[encoded data removed]",
      "text/plain": [
       "<Figure size 360x504 with 1 Axes>"
      ]
     },
     "metadata": {
      "needs_background": "light"
     },
     "output_type": "display_data"
    }
   ],
   "source": [
    "plt.figure(figsize=(5,7))\n",
    "plt.title('Father Profession')\n",
    "plt.ylabel('Percentage of students')\n",
    "plt.bar(x.index, x)"
   ]
  },
  {
   "cell_type": "code",
   "execution_count": 42,
   "metadata": {},
   "outputs": [
    {
     "name": "stdout",
     "output_type": "stream",
     "text": [
      "Q003     A     B     C     D    E\n",
      "Q006                             \n",
      "A     1142   336   248    75   20\n",
      "B     4642  2858  2269   676   66\n",
      "C     2206  3328  3516  1354  132\n",
      "D      507  1060  1539   842   96\n",
      "E      460  1183  1774  1096  122\n",
      "F      179   427   769   768  113\n",
      "G      195   604  1084  1274  189\n",
      "H       78   248   522  1010  239\n",
      "I       62   170   377   883  261\n",
      "J       20    67   148   495  188\n",
      "K       14    45   111   406  150\n",
      "L       11    22    53   320  172\n",
      "M        3    21    29   300  194\n",
      "N       10    19    38   391  309\n",
      "O        4    11    18   272  308\n",
      "P        5     7    12   171  362\n",
      "Q        5     5     8   125  657\n"
     ]
    },
    {
     "data": {
      "text/plain": [
       "<matplotlib.axes._subplots.AxesSubplot at 0x1432445b700>"
      ]
     },
     "execution_count": 42,
     "metadata": {},
     "output_type": "execute_result"
    },
    {
     "data": {
      "image/png": "[encoded data removed]",
      "text/plain": [
       "<Figure size 576x576 with 1 Axes>"
      ]
     },
     "metadata": {
      "needs_background": "light"
     },
     "output_type": "display_data"
    }
   ],
   "source": [
    "table = pd.crosstab(df.Q006, df.Q003)\n",
    "print(table)\n",
    "table.plot(kind=\"bar\", \n",
    "                 figsize=(8,8),\n",
    "                 stacked=True)"
   ]
  },
  {
   "cell_type": "code",
   "execution_count": 43,
   "metadata": {},
   "outputs": [
    {
     "data": {
      "text/plain": [
       "<matplotlib.axes._subplots.AxesSubplot at 0x14324679b20>"
      ]
     },
     "execution_count": 43,
     "metadata": {},
     "output_type": "execute_result"
    },
    {
     "data": {
      "image/png": "[encoded data removed]",
      "text/plain": [
       "<Figure size 432x288 with 1 Axes>"
      ]
     },
     "metadata": {
      "needs_background": "light"
     },
     "output_type": "display_data"
    }
   ],
   "source": [
    "sns.boxplot(y='NU_NOTA_MT', x='Q003', \n",
    "                 data=df, order=[\"A\", \"B\", \"C\", \"D\", \"E\"])"
   ]
  },
  {
   "cell_type": "markdown",
   "metadata": {},
   "source": [
    "## Mother Profession"
   ]
  },
  {
   "cell_type": "code",
   "execution_count": 44,
   "metadata": {},
   "outputs": [],
   "source": [
    "x = (df.Q004.value_counts().sort_index()/total)*100"
   ]
  },
  {
   "cell_type": "code",
   "execution_count": 45,
   "metadata": {},
   "outputs": [
    {
     "data": {
      "text/plain": [
       "<BarContainer object of 5 artists>"
      ]
     },
     "execution_count": 45,
     "metadata": {},
     "output_type": "execute_result"
    },
    {
     "data": {
      "image/png": "[encoded data removed]",
      "text/plain": [
       "<Figure size 360x504 with 1 Axes>"
      ]
     },
     "metadata": {
      "needs_background": "light"
     },
     "output_type": "display_data"
    }
   ],
   "source": [
    "plt.figure(figsize=(5,7))\n",
    "plt.title('Mother Profession')\n",
    "plt.ylabel('Percentage of students')\n",
    "plt.bar(x.index, x)"
   ]
  },
  {
   "cell_type": "code",
   "execution_count": 46,
   "metadata": {},
   "outputs": [
    {
     "name": "stdout",
     "output_type": "stream",
     "text": [
      "Q004     A     B     C     D    E\n",
      "Q006                             \n",
      "A     1086   582    58    79   16\n",
      "B     3895  5235   669   677   35\n",
      "C     1586  6189  1107  1589   65\n",
      "D      320  2207   457   995   65\n",
      "E      256  2362   518  1413   86\n",
      "F       85   940   233   911   87\n",
      "G      110  1352   288  1443  153\n",
      "H       36   580   159  1156  166\n",
      "I       22   433   109   993  196\n",
      "J        9   170    43   558  138\n",
      "K        9   130    34   448  105\n",
      "L        5    81    20   345  127\n",
      "M        3    67    12   331  134\n",
      "N        5    73    13   443  233\n",
      "O        5    57    11   340  200\n",
      "P        7    18    14   271  247\n",
      "Q        2    23     6   257  512\n"
     ]
    },
    {
     "data": {
      "text/plain": [
       "<matplotlib.axes._subplots.AxesSubplot at 0x143247b7070>"
      ]
     },
     "execution_count": 46,
     "metadata": {},
     "output_type": "execute_result"
    },
    {
     "data": {
      "image/png": "[encoded data removed]",
      "text/plain": [
       "<Figure size 576x576 with 1 Axes>"
      ]
     },
     "metadata": {
      "needs_background": "light"
     },
     "output_type": "display_data"
    }
   ],
   "source": [
    "table = pd.crosstab(df.Q006, df.Q004)\n",
    "print(table)\n",
    "table.plot(kind=\"bar\", \n",
    "                 figsize=(8,8),\n",
    "                 stacked=True)"
   ]
  },
  {
   "cell_type": "code",
   "execution_count": 47,
   "metadata": {},
   "outputs": [
    {
     "data": {
      "text/plain": [
       "<matplotlib.axes._subplots.AxesSubplot at 0x143241147f0>"
      ]
     },
     "execution_count": 47,
     "metadata": {},
     "output_type": "execute_result"
    },
    {
     "data": {
      "image/png": "[encoded data removed]",
      "text/plain": [
       "<Figure size 432x288 with 1 Axes>"
      ]
     },
     "metadata": {
      "needs_background": "light"
     },
     "output_type": "display_data"
    }
   ],
   "source": [
    "sns.boxplot(y='NU_NOTA_MT', x='Q004', \n",
    "                 data=df, order=[\"A\", \"B\", \"C\", \"D\", \"E\"])"
   ]
  },
  {
   "cell_type": "markdown",
   "metadata": {},
   "source": [
    "## House Size"
   ]
  },
  {
   "cell_type": "code",
   "execution_count": 48,
   "metadata": {},
   "outputs": [],
   "source": [
    "## Transforming number of bathrooms column into integer format\n",
    "df.Q008 = [ ord(x) - 65 for x in df.Q008]"
   ]
  },
  {
   "cell_type": "code",
   "execution_count": 49,
   "metadata": {
    "scrolled": true
   },
   "outputs": [],
   "source": [
    "## Transforming number of bedrooms column into integer format\n",
    "df.Q009 = [ ord(x) - 65 for x in df.Q009]"
   ]
  },
  {
   "cell_type": "code",
   "execution_count": 50,
   "metadata": {},
   "outputs": [],
   "source": [
    "## Creating control variable \"House Size\"\n",
    "df['HOUSE'] = df.Q008 + df.Q009"
   ]
  },
  {
   "cell_type": "code",
   "execution_count": 51,
   "metadata": {},
   "outputs": [],
   "source": [
    "x = df.HOUSE"
   ]
  },
  {
   "cell_type": "code",
   "execution_count": 52,
   "metadata": {},
   "outputs": [
    {
     "data": {
      "image/png": "[encoded data removed]",
      "text/plain": [
       "<Figure size 1440x720 with 1 Axes>"
      ]
     },
     "metadata": {
      "needs_background": "light"
     },
     "output_type": "display_data"
    }
   ],
   "source": [
    "plot_histogram(x, x_l='House Size',title='House sizes distribution', optimal=False, bins=9)"
   ]
  },
  {
   "cell_type": "code",
   "execution_count": 53,
   "metadata": {},
   "outputs": [
    {
     "data": {
      "text/plain": [
       "count    46505.000000\n",
       "mean         3.860144\n",
       "std          1.373613\n",
       "min          0.000000\n",
       "25%          3.000000\n",
       "50%          4.000000\n",
       "75%          5.000000\n",
       "max          8.000000\n",
       "Name: HOUSE, dtype: float64"
      ]
     },
     "execution_count": 53,
     "metadata": {},
     "output_type": "execute_result"
    }
   ],
   "source": [
    "df.HOUSE.describe()"
   ]
  },
  {
   "cell_type": "code",
   "execution_count": 80,
   "metadata": {},
   "outputs": [
    {
     "name": "stdout",
     "output_type": "stream",
     "text": [
      "HOUSE   0    1     2     3     4     5    6    7    8\n",
      "Q006                                                 \n",
      "0      33   71   450   892   261    83   20    7    4\n",
      "1      30  159  1866  5771  2002   560  100   19    4\n",
      "2      18   57  1146  5405  2554  1066  238   36   16\n",
      "3       2    9   244  1778  1135   668  160   26   22\n",
      "4       1   11   230  1859  1356   868  222   67   21\n",
      "5       2    0    76   715   677   506  198   56   26\n",
      "6       0    3    91  1030   942   865  283   88   44\n",
      "7       0    1    34   469   531   597  306  109   50\n",
      "8       0    2    14   309   423   557  287  108   53\n",
      "9       0    1     9   118   184   301  181   79   45\n",
      "10      0    0     3   100   148   219  146   84   26\n",
      "11      0    0     0    47    95   183  130   84   39\n",
      "12      0    0     1    40    92   134  145   78   57\n",
      "13      0    0     2    44   110   204  190  125   92\n",
      "14      0    0     2    24    64   135  159  140   89\n",
      "15      0    0     5    13    44   105  123  135  132\n",
      "16      1    0     1     9    27    63  151  230  318\n"
     ]
    },
    {
     "ename": "AttributeError",
     "evalue": "'Rectangle' object has no property 'x_l'",
     "output_type": "error",
     "traceback": [
      "\u001b[1;31m---------------------------------------------------------------------------\u001b[0m",
      "\u001b[1;31mAttributeError\u001b[0m                            Traceback (most recent call last)",
      "\u001b[1;32m<ipython-input-80-68f0e37e54fc>\u001b[0m in \u001b[0;36m<module>\u001b[1;34m\u001b[0m\n\u001b[0;32m      1\u001b[0m \u001b[0mtable\u001b[0m \u001b[1;33m=\u001b[0m \u001b[0mpd\u001b[0m\u001b[1;33m.\u001b[0m\u001b[0mcrosstab\u001b[0m\u001b[1;33m(\u001b[0m\u001b[0mdf\u001b[0m\u001b[1;33m.\u001b[0m\u001b[0mQ006\u001b[0m\u001b[1;33m,\u001b[0m \u001b[0mdf\u001b[0m\u001b[1;33m.\u001b[0m\u001b[0mHOUSE\u001b[0m\u001b[1;33m)\u001b[0m\u001b[1;33m\u001b[0m\u001b[1;33m\u001b[0m\u001b[0m\n\u001b[0;32m      2\u001b[0m \u001b[0mprint\u001b[0m\u001b[1;33m(\u001b[0m\u001b[0mtable\u001b[0m\u001b[1;33m)\u001b[0m\u001b[1;33m\u001b[0m\u001b[1;33m\u001b[0m\u001b[0m\n\u001b[1;32m----> 3\u001b[1;33m table.plot(kind=\"bar\", \n\u001b[0m\u001b[0;32m      4\u001b[0m                  \u001b[0mfigsize\u001b[0m\u001b[1;33m=\u001b[0m\u001b[1;33m(\u001b[0m\u001b[1;36m8\u001b[0m\u001b[1;33m,\u001b[0m\u001b[1;36m8\u001b[0m\u001b[1;33m)\u001b[0m\u001b[1;33m,\u001b[0m\u001b[1;33m\u001b[0m\u001b[1;33m\u001b[0m\u001b[0m\n\u001b[0;32m      5\u001b[0m                  stacked=True,  title='House size versus Income', x_l='test')\n",
      "\u001b[1;32m~\\anaconda3\\lib\\site-packages\\pandas\\plotting\\_core.py\u001b[0m in \u001b[0;36m__call__\u001b[1;34m(self, *args, **kwargs)\u001b[0m\n\u001b[0;32m    845\u001b[0m                     \u001b[0mdata\u001b[0m\u001b[1;33m.\u001b[0m\u001b[0mcolumns\u001b[0m \u001b[1;33m=\u001b[0m \u001b[0mlabel_name\u001b[0m\u001b[1;33m\u001b[0m\u001b[1;33m\u001b[0m\u001b[0m\n\u001b[0;32m    846\u001b[0m \u001b[1;33m\u001b[0m\u001b[0m\n\u001b[1;32m--> 847\u001b[1;33m         \u001b[1;32mreturn\u001b[0m \u001b[0mplot_backend\u001b[0m\u001b[1;33m.\u001b[0m\u001b[0mplot\u001b[0m\u001b[1;33m(\u001b[0m\u001b[0mdata\u001b[0m\u001b[1;33m,\u001b[0m \u001b[0mkind\u001b[0m\u001b[1;33m=\u001b[0m\u001b[0mkind\u001b[0m\u001b[1;33m,\u001b[0m \u001b[1;33m**\u001b[0m\u001b[0mkwargs\u001b[0m\u001b[1;33m)\u001b[0m\u001b[1;33m\u001b[0m\u001b[1;33m\u001b[0m\u001b[0m\n\u001b[0m\u001b[0;32m    848\u001b[0m \u001b[1;33m\u001b[0m\u001b[0m\n\u001b[0;32m    849\u001b[0m     \u001b[0m__call__\u001b[0m\u001b[1;33m.\u001b[0m\u001b[0m__doc__\u001b[0m \u001b[1;33m=\u001b[0m \u001b[0m__doc__\u001b[0m\u001b[1;33m\u001b[0m\u001b[1;33m\u001b[0m\u001b[0m\n",
      "\u001b[1;32m~\\anaconda3\\lib\\site-packages\\pandas\\plotting\\_matplotlib\\__init__.py\u001b[0m in \u001b[0;36mplot\u001b[1;34m(data, kind, **kwargs)\u001b[0m\n\u001b[0;32m     59\u001b[0m             \u001b[0mkwargs\u001b[0m\u001b[1;33m[\u001b[0m\u001b[1;34m\"ax\"\u001b[0m\u001b[1;33m]\u001b[0m \u001b[1;33m=\u001b[0m \u001b[0mgetattr\u001b[0m\u001b[1;33m(\u001b[0m\u001b[0max\u001b[0m\u001b[1;33m,\u001b[0m \u001b[1;34m\"left_ax\"\u001b[0m\u001b[1;33m,\u001b[0m \u001b[0max\u001b[0m\u001b[1;33m)\u001b[0m\u001b[1;33m\u001b[0m\u001b[1;33m\u001b[0m\u001b[0m\n\u001b[0;32m     60\u001b[0m     \u001b[0mplot_obj\u001b[0m \u001b[1;33m=\u001b[0m \u001b[0mPLOT_CLASSES\u001b[0m\u001b[1;33m[\u001b[0m\u001b[0mkind\u001b[0m\u001b[1;33m]\u001b[0m\u001b[1;33m(\u001b[0m\u001b[0mdata\u001b[0m\u001b[1;33m,\u001b[0m \u001b[1;33m**\u001b[0m\u001b[0mkwargs\u001b[0m\u001b[1;33m)\u001b[0m\u001b[1;33m\u001b[0m\u001b[1;33m\u001b[0m\u001b[0m\n\u001b[1;32m---> 61\u001b[1;33m     \u001b[0mplot_obj\u001b[0m\u001b[1;33m.\u001b[0m\u001b[0mgenerate\u001b[0m\u001b[1;33m(\u001b[0m\u001b[1;33m)\u001b[0m\u001b[1;33m\u001b[0m\u001b[1;33m\u001b[0m\u001b[0m\n\u001b[0m\u001b[0;32m     62\u001b[0m     \u001b[0mplot_obj\u001b[0m\u001b[1;33m.\u001b[0m\u001b[0mdraw\u001b[0m\u001b[1;33m(\u001b[0m\u001b[1;33m)\u001b[0m\u001b[1;33m\u001b[0m\u001b[1;33m\u001b[0m\u001b[0m\n\u001b[0;32m     63\u001b[0m     \u001b[1;32mreturn\u001b[0m \u001b[0mplot_obj\u001b[0m\u001b[1;33m.\u001b[0m\u001b[0mresult\u001b[0m\u001b[1;33m\u001b[0m\u001b[1;33m\u001b[0m\u001b[0m\n",
      "\u001b[1;32m~\\anaconda3\\lib\\site-packages\\pandas\\plotting\\_matplotlib\\core.py\u001b[0m in \u001b[0;36mgenerate\u001b[1;34m(self)\u001b[0m\n\u001b[0;32m    261\u001b[0m         \u001b[0mself\u001b[0m\u001b[1;33m.\u001b[0m\u001b[0m_compute_plot_data\u001b[0m\u001b[1;33m(\u001b[0m\u001b[1;33m)\u001b[0m\u001b[1;33m\u001b[0m\u001b[1;33m\u001b[0m\u001b[0m\n\u001b[0;32m    262\u001b[0m         \u001b[0mself\u001b[0m\u001b[1;33m.\u001b[0m\u001b[0m_setup_subplots\u001b[0m\u001b[1;33m(\u001b[0m\u001b[1;33m)\u001b[0m\u001b[1;33m\u001b[0m\u001b[1;33m\u001b[0m\u001b[0m\n\u001b[1;32m--> 263\u001b[1;33m         \u001b[0mself\u001b[0m\u001b[1;33m.\u001b[0m\u001b[0m_make_plot\u001b[0m\u001b[1;33m(\u001b[0m\u001b[1;33m)\u001b[0m\u001b[1;33m\u001b[0m\u001b[1;33m\u001b[0m\u001b[0m\n\u001b[0m\u001b[0;32m    264\u001b[0m         \u001b[0mself\u001b[0m\u001b[1;33m.\u001b[0m\u001b[0m_add_table\u001b[0m\u001b[1;33m(\u001b[0m\u001b[1;33m)\u001b[0m\u001b[1;33m\u001b[0m\u001b[1;33m\u001b[0m\u001b[0m\n\u001b[0;32m    265\u001b[0m         \u001b[0mself\u001b[0m\u001b[1;33m.\u001b[0m\u001b[0m_make_legend\u001b[0m\u001b[1;33m(\u001b[0m\u001b[1;33m)\u001b[0m\u001b[1;33m\u001b[0m\u001b[1;33m\u001b[0m\u001b[0m\n",
      "\u001b[1;32m~\\anaconda3\\lib\\site-packages\\pandas\\plotting\\_matplotlib\\core.py\u001b[0m in \u001b[0;36m_make_plot\u001b[1;34m(self)\u001b[0m\n\u001b[0;32m   1381\u001b[0m                 \u001b[0mstart\u001b[0m \u001b[1;33m=\u001b[0m \u001b[0mnp\u001b[0m\u001b[1;33m.\u001b[0m\u001b[0mwhere\u001b[0m\u001b[1;33m(\u001b[0m\u001b[0mmask\u001b[0m\u001b[1;33m,\u001b[0m \u001b[0mpos_prior\u001b[0m\u001b[1;33m,\u001b[0m \u001b[0mneg_prior\u001b[0m\u001b[1;33m)\u001b[0m \u001b[1;33m+\u001b[0m \u001b[0mself\u001b[0m\u001b[1;33m.\u001b[0m\u001b[0m_start_base\u001b[0m\u001b[1;33m\u001b[0m\u001b[1;33m\u001b[0m\u001b[0m\n\u001b[0;32m   1382\u001b[0m                 \u001b[0mw\u001b[0m \u001b[1;33m=\u001b[0m \u001b[0mself\u001b[0m\u001b[1;33m.\u001b[0m\u001b[0mbar_width\u001b[0m \u001b[1;33m/\u001b[0m \u001b[1;36m2\u001b[0m\u001b[1;33m\u001b[0m\u001b[1;33m\u001b[0m\u001b[0m\n\u001b[1;32m-> 1383\u001b[1;33m                 rect = self._plot(\n\u001b[0m\u001b[0;32m   1384\u001b[0m                     \u001b[0max\u001b[0m\u001b[1;33m,\u001b[0m\u001b[1;33m\u001b[0m\u001b[1;33m\u001b[0m\u001b[0m\n\u001b[0;32m   1385\u001b[0m                     \u001b[0mself\u001b[0m\u001b[1;33m.\u001b[0m\u001b[0max_pos\u001b[0m \u001b[1;33m+\u001b[0m \u001b[0mw\u001b[0m\u001b[1;33m,\u001b[0m\u001b[1;33m\u001b[0m\u001b[1;33m\u001b[0m\u001b[0m\n",
      "\u001b[1;32m~\\anaconda3\\lib\\site-packages\\pandas\\plotting\\_matplotlib\\core.py\u001b[0m in \u001b[0;36m_plot\u001b[1;34m(cls, ax, x, y, w, start, log, **kwds)\u001b[0m\n\u001b[0;32m   1328\u001b[0m     \u001b[1;33m@\u001b[0m\u001b[0mclassmethod\u001b[0m\u001b[1;33m\u001b[0m\u001b[1;33m\u001b[0m\u001b[0m\n\u001b[0;32m   1329\u001b[0m     \u001b[1;32mdef\u001b[0m \u001b[0m_plot\u001b[0m\u001b[1;33m(\u001b[0m\u001b[0mcls\u001b[0m\u001b[1;33m,\u001b[0m \u001b[0max\u001b[0m\u001b[1;33m,\u001b[0m \u001b[0mx\u001b[0m\u001b[1;33m,\u001b[0m \u001b[0my\u001b[0m\u001b[1;33m,\u001b[0m \u001b[0mw\u001b[0m\u001b[1;33m,\u001b[0m \u001b[0mstart\u001b[0m\u001b[1;33m=\u001b[0m\u001b[1;36m0\u001b[0m\u001b[1;33m,\u001b[0m \u001b[0mlog\u001b[0m\u001b[1;33m=\u001b[0m\u001b[1;32mFalse\u001b[0m\u001b[1;33m,\u001b[0m \u001b[1;33m**\u001b[0m\u001b[0mkwds\u001b[0m\u001b[1;33m)\u001b[0m\u001b[1;33m:\u001b[0m\u001b[1;33m\u001b[0m\u001b[1;33m\u001b[0m\u001b[0m\n\u001b[1;32m-> 1330\u001b[1;33m         \u001b[1;32mreturn\u001b[0m \u001b[0max\u001b[0m\u001b[1;33m.\u001b[0m\u001b[0mbar\u001b[0m\u001b[1;33m(\u001b[0m\u001b[0mx\u001b[0m\u001b[1;33m,\u001b[0m \u001b[0my\u001b[0m\u001b[1;33m,\u001b[0m \u001b[0mw\u001b[0m\u001b[1;33m,\u001b[0m \u001b[0mbottom\u001b[0m\u001b[1;33m=\u001b[0m\u001b[0mstart\u001b[0m\u001b[1;33m,\u001b[0m \u001b[0mlog\u001b[0m\u001b[1;33m=\u001b[0m\u001b[0mlog\u001b[0m\u001b[1;33m,\u001b[0m \u001b[1;33m**\u001b[0m\u001b[0mkwds\u001b[0m\u001b[1;33m)\u001b[0m\u001b[1;33m\u001b[0m\u001b[1;33m\u001b[0m\u001b[0m\n\u001b[0m\u001b[0;32m   1331\u001b[0m \u001b[1;33m\u001b[0m\u001b[0m\n\u001b[0;32m   1332\u001b[0m     \u001b[1;33m@\u001b[0m\u001b[0mproperty\u001b[0m\u001b[1;33m\u001b[0m\u001b[1;33m\u001b[0m\u001b[0m\n",
      "\u001b[1;32m~\\anaconda3\\lib\\site-packages\\matplotlib\\__init__.py\u001b[0m in \u001b[0;36minner\u001b[1;34m(ax, data, *args, **kwargs)\u001b[0m\n\u001b[0;32m   1563\u001b[0m     \u001b[1;32mdef\u001b[0m \u001b[0minner\u001b[0m\u001b[1;33m(\u001b[0m\u001b[0max\u001b[0m\u001b[1;33m,\u001b[0m \u001b[1;33m*\u001b[0m\u001b[0margs\u001b[0m\u001b[1;33m,\u001b[0m \u001b[0mdata\u001b[0m\u001b[1;33m=\u001b[0m\u001b[1;32mNone\u001b[0m\u001b[1;33m,\u001b[0m \u001b[1;33m**\u001b[0m\u001b[0mkwargs\u001b[0m\u001b[1;33m)\u001b[0m\u001b[1;33m:\u001b[0m\u001b[1;33m\u001b[0m\u001b[1;33m\u001b[0m\u001b[0m\n\u001b[0;32m   1564\u001b[0m         \u001b[1;32mif\u001b[0m \u001b[0mdata\u001b[0m \u001b[1;32mis\u001b[0m \u001b[1;32mNone\u001b[0m\u001b[1;33m:\u001b[0m\u001b[1;33m\u001b[0m\u001b[1;33m\u001b[0m\u001b[0m\n\u001b[1;32m-> 1565\u001b[1;33m             \u001b[1;32mreturn\u001b[0m \u001b[0mfunc\u001b[0m\u001b[1;33m(\u001b[0m\u001b[0max\u001b[0m\u001b[1;33m,\u001b[0m \u001b[1;33m*\u001b[0m\u001b[0mmap\u001b[0m\u001b[1;33m(\u001b[0m\u001b[0msanitize_sequence\u001b[0m\u001b[1;33m,\u001b[0m \u001b[0margs\u001b[0m\u001b[1;33m)\u001b[0m\u001b[1;33m,\u001b[0m \u001b[1;33m**\u001b[0m\u001b[0mkwargs\u001b[0m\u001b[1;33m)\u001b[0m\u001b[1;33m\u001b[0m\u001b[1;33m\u001b[0m\u001b[0m\n\u001b[0m\u001b[0;32m   1566\u001b[0m \u001b[1;33m\u001b[0m\u001b[0m\n\u001b[0;32m   1567\u001b[0m         \u001b[0mbound\u001b[0m \u001b[1;33m=\u001b[0m \u001b[0mnew_sig\u001b[0m\u001b[1;33m.\u001b[0m\u001b[0mbind\u001b[0m\u001b[1;33m(\u001b[0m\u001b[0max\u001b[0m\u001b[1;33m,\u001b[0m \u001b[1;33m*\u001b[0m\u001b[0margs\u001b[0m\u001b[1;33m,\u001b[0m \u001b[1;33m**\u001b[0m\u001b[0mkwargs\u001b[0m\u001b[1;33m)\u001b[0m\u001b[1;33m\u001b[0m\u001b[1;33m\u001b[0m\u001b[0m\n",
      "\u001b[1;32m~\\anaconda3\\lib\\site-packages\\matplotlib\\axes\\_axes.py\u001b[0m in \u001b[0;36mbar\u001b[1;34m(self, x, height, width, bottom, align, **kwargs)\u001b[0m\n\u001b[0;32m   2396\u001b[0m                 \u001b[0mlabel\u001b[0m\u001b[1;33m=\u001b[0m\u001b[1;34m'_nolegend_'\u001b[0m\u001b[1;33m,\u001b[0m\u001b[1;33m\u001b[0m\u001b[1;33m\u001b[0m\u001b[0m\n\u001b[0;32m   2397\u001b[0m                 )\n\u001b[1;32m-> 2398\u001b[1;33m             \u001b[0mr\u001b[0m\u001b[1;33m.\u001b[0m\u001b[0mupdate\u001b[0m\u001b[1;33m(\u001b[0m\u001b[0mkwargs\u001b[0m\u001b[1;33m)\u001b[0m\u001b[1;33m\u001b[0m\u001b[1;33m\u001b[0m\u001b[0m\n\u001b[0m\u001b[0;32m   2399\u001b[0m             \u001b[0mr\u001b[0m\u001b[1;33m.\u001b[0m\u001b[0mget_path\u001b[0m\u001b[1;33m(\u001b[0m\u001b[1;33m)\u001b[0m\u001b[1;33m.\u001b[0m\u001b[0m_interpolation_steps\u001b[0m \u001b[1;33m=\u001b[0m \u001b[1;36m100\u001b[0m\u001b[1;33m\u001b[0m\u001b[1;33m\u001b[0m\u001b[0m\n\u001b[0;32m   2400\u001b[0m             \u001b[1;32mif\u001b[0m \u001b[0morientation\u001b[0m \u001b[1;33m==\u001b[0m \u001b[1;34m'vertical'\u001b[0m\u001b[1;33m:\u001b[0m\u001b[1;33m\u001b[0m\u001b[1;33m\u001b[0m\u001b[0m\n",
      "\u001b[1;32m~\\anaconda3\\lib\\site-packages\\matplotlib\\artist.py\u001b[0m in \u001b[0;36mupdate\u001b[1;34m(self, props)\u001b[0m\n\u001b[0;32m   1004\u001b[0m \u001b[1;33m\u001b[0m\u001b[0m\n\u001b[0;32m   1005\u001b[0m         \u001b[1;32mwith\u001b[0m \u001b[0mcbook\u001b[0m\u001b[1;33m.\u001b[0m\u001b[0m_setattr_cm\u001b[0m\u001b[1;33m(\u001b[0m\u001b[0mself\u001b[0m\u001b[1;33m,\u001b[0m \u001b[0meventson\u001b[0m\u001b[1;33m=\u001b[0m\u001b[1;32mFalse\u001b[0m\u001b[1;33m)\u001b[0m\u001b[1;33m:\u001b[0m\u001b[1;33m\u001b[0m\u001b[1;33m\u001b[0m\u001b[0m\n\u001b[1;32m-> 1006\u001b[1;33m             \u001b[0mret\u001b[0m \u001b[1;33m=\u001b[0m \u001b[1;33m[\u001b[0m\u001b[0m_update_property\u001b[0m\u001b[1;33m(\u001b[0m\u001b[0mself\u001b[0m\u001b[1;33m,\u001b[0m \u001b[0mk\u001b[0m\u001b[1;33m,\u001b[0m \u001b[0mv\u001b[0m\u001b[1;33m)\u001b[0m \u001b[1;32mfor\u001b[0m \u001b[0mk\u001b[0m\u001b[1;33m,\u001b[0m \u001b[0mv\u001b[0m \u001b[1;32min\u001b[0m \u001b[0mprops\u001b[0m\u001b[1;33m.\u001b[0m\u001b[0mitems\u001b[0m\u001b[1;33m(\u001b[0m\u001b[1;33m)\u001b[0m\u001b[1;33m]\u001b[0m\u001b[1;33m\u001b[0m\u001b[1;33m\u001b[0m\u001b[0m\n\u001b[0m\u001b[0;32m   1007\u001b[0m \u001b[1;33m\u001b[0m\u001b[0m\n\u001b[0;32m   1008\u001b[0m         \u001b[1;32mif\u001b[0m \u001b[0mlen\u001b[0m\u001b[1;33m(\u001b[0m\u001b[0mret\u001b[0m\u001b[1;33m)\u001b[0m\u001b[1;33m:\u001b[0m\u001b[1;33m\u001b[0m\u001b[1;33m\u001b[0m\u001b[0m\n",
      "\u001b[1;32m~\\anaconda3\\lib\\site-packages\\matplotlib\\artist.py\u001b[0m in \u001b[0;36m<listcomp>\u001b[1;34m(.0)\u001b[0m\n\u001b[0;32m   1004\u001b[0m \u001b[1;33m\u001b[0m\u001b[0m\n\u001b[0;32m   1005\u001b[0m         \u001b[1;32mwith\u001b[0m \u001b[0mcbook\u001b[0m\u001b[1;33m.\u001b[0m\u001b[0m_setattr_cm\u001b[0m\u001b[1;33m(\u001b[0m\u001b[0mself\u001b[0m\u001b[1;33m,\u001b[0m \u001b[0meventson\u001b[0m\u001b[1;33m=\u001b[0m\u001b[1;32mFalse\u001b[0m\u001b[1;33m)\u001b[0m\u001b[1;33m:\u001b[0m\u001b[1;33m\u001b[0m\u001b[1;33m\u001b[0m\u001b[0m\n\u001b[1;32m-> 1006\u001b[1;33m             \u001b[0mret\u001b[0m \u001b[1;33m=\u001b[0m \u001b[1;33m[\u001b[0m\u001b[0m_update_property\u001b[0m\u001b[1;33m(\u001b[0m\u001b[0mself\u001b[0m\u001b[1;33m,\u001b[0m \u001b[0mk\u001b[0m\u001b[1;33m,\u001b[0m \u001b[0mv\u001b[0m\u001b[1;33m)\u001b[0m \u001b[1;32mfor\u001b[0m \u001b[0mk\u001b[0m\u001b[1;33m,\u001b[0m \u001b[0mv\u001b[0m \u001b[1;32min\u001b[0m \u001b[0mprops\u001b[0m\u001b[1;33m.\u001b[0m\u001b[0mitems\u001b[0m\u001b[1;33m(\u001b[0m\u001b[1;33m)\u001b[0m\u001b[1;33m]\u001b[0m\u001b[1;33m\u001b[0m\u001b[1;33m\u001b[0m\u001b[0m\n\u001b[0m\u001b[0;32m   1007\u001b[0m \u001b[1;33m\u001b[0m\u001b[0m\n\u001b[0;32m   1008\u001b[0m         \u001b[1;32mif\u001b[0m \u001b[0mlen\u001b[0m\u001b[1;33m(\u001b[0m\u001b[0mret\u001b[0m\u001b[1;33m)\u001b[0m\u001b[1;33m:\u001b[0m\u001b[1;33m\u001b[0m\u001b[1;33m\u001b[0m\u001b[0m\n",
      "\u001b[1;32m~\\anaconda3\\lib\\site-packages\\matplotlib\\artist.py\u001b[0m in \u001b[0;36m_update_property\u001b[1;34m(self, k, v)\u001b[0m\n\u001b[0;32m    999\u001b[0m                 \u001b[0mfunc\u001b[0m \u001b[1;33m=\u001b[0m \u001b[0mgetattr\u001b[0m\u001b[1;33m(\u001b[0m\u001b[0mself\u001b[0m\u001b[1;33m,\u001b[0m \u001b[1;34m'set_'\u001b[0m \u001b[1;33m+\u001b[0m \u001b[0mk\u001b[0m\u001b[1;33m,\u001b[0m \u001b[1;32mNone\u001b[0m\u001b[1;33m)\u001b[0m\u001b[1;33m\u001b[0m\u001b[1;33m\u001b[0m\u001b[0m\n\u001b[0;32m   1000\u001b[0m                 \u001b[1;32mif\u001b[0m \u001b[1;32mnot\u001b[0m \u001b[0mcallable\u001b[0m\u001b[1;33m(\u001b[0m\u001b[0mfunc\u001b[0m\u001b[1;33m)\u001b[0m\u001b[1;33m:\u001b[0m\u001b[1;33m\u001b[0m\u001b[1;33m\u001b[0m\u001b[0m\n\u001b[1;32m-> 1001\u001b[1;33m                     raise AttributeError('{!r} object has no property {!r}'\n\u001b[0m\u001b[0;32m   1002\u001b[0m                                          .format(type(self).__name__, k))\n\u001b[0;32m   1003\u001b[0m                 \u001b[1;32mreturn\u001b[0m \u001b[0mfunc\u001b[0m\u001b[1;33m(\u001b[0m\u001b[0mv\u001b[0m\u001b[1;33m)\u001b[0m\u001b[1;33m\u001b[0m\u001b[1;33m\u001b[0m\u001b[0m\n",
      "\u001b[1;31mAttributeError\u001b[0m: 'Rectangle' object has no property 'x_l'"
     ]
    },
    {
     "data": {
      "image/png": "[encoded data removed]",
      "text/plain": [
       "<Figure size 576x576 with 1 Axes>"
      ]
     },
     "metadata": {
      "needs_background": "light"
     },
     "output_type": "display_data"
    }
   ],
   "source": [
    "table = pd.crosstab(df.Q006, df.HOUSE)\n",
    "print(table)\n",
    "table.plot(kind=\"bar\", \n",
    "                 figsize=(8,8),\n",
    "                 stacked=True,  title='House size versus Income', x_l='test')\n"
   ]
  },
  {
   "cell_type": "code",
   "execution_count": 55,
   "metadata": {},
   "outputs": [
    {
     "data": {
      "text/plain": [
       "<matplotlib.axes._subplots.AxesSubplot at 0x14324b10970>"
      ]
     },
     "execution_count": 55,
     "metadata": {},
     "output_type": "execute_result"
    },
    {
     "data": {
      "image/png": "[encoded data removed]",
      "text/plain": [
       "<Figure size 432x288 with 1 Axes>"
      ]
     },
     "metadata": {
      "needs_background": "light"
     },
     "output_type": "display_data"
    }
   ],
   "source": [
    "sns.boxplot(y='NU_NOTA_MT', x='HOUSE', \n",
    "                 data=df)"
   ]
  },
  {
   "cell_type": "markdown",
   "metadata": {},
   "source": [
    "## Internet Access"
   ]
  },
  {
   "cell_type": "code",
   "execution_count": 56,
   "metadata": {},
   "outputs": [],
   "source": [
    "x = (df.Q025.value_counts().sort_index()/total)*100"
   ]
  },
  {
   "cell_type": "code",
   "execution_count": 57,
   "metadata": {},
   "outputs": [
    {
     "data": {
      "text/plain": [
       "<BarContainer object of 2 artists>"
      ]
     },
     "execution_count": 57,
     "metadata": {},
     "output_type": "execute_result"
    },
    {
     "data": {
      "image/png": "[encoded data removed]",
      "text/plain": [
       "<Figure size 360x504 with 1 Axes>"
      ]
     },
     "metadata": {
      "needs_background": "light"
     },
     "output_type": "display_data"
    }
   ],
   "source": [
    "plt.figure(figsize=(5,7))\n",
    "plt.title('Internet Access')\n",
    "plt.ylabel('Percentage of students')\n",
    "plt.bar(['No','Yes'], x)"
   ]
  },
  {
   "cell_type": "code",
   "execution_count": 69,
   "metadata": {},
   "outputs": [
    {
     "name": "stdout",
     "output_type": "stream",
     "text": [
      "Q025     0     1\n",
      "Q006            \n",
      "0     1102   719\n",
      "1     4626  5885\n",
      "2     2384  8152\n",
      "3      427  3617\n",
      "4      372  4263\n",
      "5      115  2141\n",
      "6      127  3219\n",
      "7       38  2059\n",
      "8       29  1724\n",
      "9       11   907\n",
      "10       8   718\n",
      "11       4   574\n",
      "12       3   544\n",
      "13       4   763\n",
      "14       0   613\n",
      "15       4   553\n",
      "16       4   796\n"
     ]
    },
    {
     "data": {
      "text/plain": [
       "<matplotlib.axes._subplots.AxesSubplot at 0x14322e1cdf0>"
      ]
     },
     "execution_count": 69,
     "metadata": {},
     "output_type": "execute_result"
    },
    {
     "data": {
      "image/png": "[encoded data removed]",
      "text/plain": [
       "<Figure size 576x576 with 1 Axes>"
      ]
     },
     "metadata": {
      "needs_background": "light"
     },
     "output_type": "display_data"
    }
   ],
   "source": [
    "table = pd.crosstab(df.Q006, df.Q025)\n",
    "print(table)\n",
    "table.plot(kind=\"bar\", \n",
    "                 figsize=(8,8),\n",
    "                 stacked=True,\n",
    "          title='Internet access versus Income')"
   ]
  },
  {
   "cell_type": "code",
   "execution_count": 72,
   "metadata": {},
   "outputs": [
    {
     "data": {
      "text/plain": [
       "<matplotlib.axes._subplots.AxesSubplot at 0x14322e770d0>"
      ]
     },
     "execution_count": 72,
     "metadata": {},
     "output_type": "execute_result"
    },
    {
     "data": {
      "image/png": "[encoded data removed]",
      "text/plain": [
       "<Figure size 432x288 with 1 Axes>"
      ]
     },
     "metadata": {
      "needs_background": "light"
     },
     "output_type": "display_data"
    }
   ],
   "source": [
    "sns.boxplot(y='NU_NOTA_MT', x='Q025', \n",
    "                 data=df, order=['A', 'B'])"
   ]
  },
  {
   "cell_type": "markdown",
   "metadata": {},
   "source": [
    "## General Description without transforming to numeric values\n",
    "https://towardsdatascience.com/the-search-for-categorical-correlation-a1cf7f1888c9"
   ]
  },
  {
   "cell_type": "markdown",
   "metadata": {},
   "source": [
    "What we need is something that will look like correlation, but will work with categorical values — or more formally, we’re looking for a measure of association between two categorical features. Introducing: Cramér’s V. It is based on a nominal variation of Pearson’s Chi-Square Test, and comes built-in with some great benefits:\n",
    "- Similarly to correlation, the output is in the range of [0,1], where 0 means no association and 1 is full association. (Unlike correlation, there are no negative values, as there’s no such thing as a negative association. Either there is, or there isn’t)\n",
    "- Like correlation, Cramer’s V is symmetrical — it is insensitive to swapping x and y"
   ]
  },
  {
   "cell_type": "code",
   "execution_count": 60,
   "metadata": {},
   "outputs": [],
   "source": [
    "def cramers_v(x, y):\n",
    "    confusion_matrix = pd.crosstab(x,y)\n",
    "    chi2 = st.chi2_contingency(confusion_matrix)[0]\n",
    "    n = confusion_matrix.sum().sum()\n",
    "    phi2 = chi2/n\n",
    "    r,k = confusion_matrix.shape\n",
    "    phi2corr = max(0, phi2-((k-1)*(r-1))/(n-1))\n",
    "    rcorr = r-((r-1)**2)/(n-1)\n",
    "    kcorr = k-((k-1)**2)/(n-1)\n",
    "    return np.sqrt(phi2corr/min((kcorr-1),(rcorr-1)))"
   ]
  },
  {
   "cell_type": "code",
   "execution_count": 61,
   "metadata": {},
   "outputs": [
    {
     "data": {
      "text/html": [
       "<div>\n",
       "<style scoped>\n",
       "    .dataframe tbody tr th:only-of-type {\n",
       "        vertical-align: middle;\n",
       "    }\n",
       "\n",
       "    .dataframe tbody tr th {\n",
       "        vertical-align: top;\n",
       "    }\n",
       "\n",
       "    .dataframe thead th {\n",
       "        text-align: right;\n",
       "    }\n",
       "</style>\n",
       "<table border=\"1\" class=\"dataframe\">\n",
       "  <thead>\n",
       "    <tr style=\"text-align: right;\">\n",
       "      <th></th>\n",
       "      <th>TP_COR_RACA</th>\n",
       "      <th>TP_ESCOLA</th>\n",
       "      <th>Q001</th>\n",
       "      <th>Q002</th>\n",
       "      <th>Q003</th>\n",
       "      <th>Q004</th>\n",
       "      <th>Q006</th>\n",
       "      <th>Q025</th>\n",
       "      <th>REGION</th>\n",
       "      <th>HOUSE</th>\n",
       "    </tr>\n",
       "  </thead>\n",
       "  <tbody>\n",
       "    <tr>\n",
       "      <th>TP_COR_RACA</th>\n",
       "      <td>1.000000</td>\n",
       "      <td>0.230731</td>\n",
       "      <td>0.127700</td>\n",
       "      <td>0.114073</td>\n",
       "      <td>0.134724</td>\n",
       "      <td>0.126948</td>\n",
       "      <td>0.176301</td>\n",
       "      <td>0.209535</td>\n",
       "      <td>0.193819</td>\n",
       "      <td>0.132568</td>\n",
       "    </tr>\n",
       "    <tr>\n",
       "      <th>TP_ESCOLA</th>\n",
       "      <td>0.230731</td>\n",
       "      <td>1.000000</td>\n",
       "      <td>0.447406</td>\n",
       "      <td>0.418236</td>\n",
       "      <td>0.503397</td>\n",
       "      <td>0.480007</td>\n",
       "      <td>0.550655</td>\n",
       "      <td>0.204777</td>\n",
       "      <td>0.119452</td>\n",
       "      <td>0.453107</td>\n",
       "    </tr>\n",
       "    <tr>\n",
       "      <th>Q001</th>\n",
       "      <td>0.127700</td>\n",
       "      <td>0.447406</td>\n",
       "      <td>1.000000</td>\n",
       "      <td>0.350618</td>\n",
       "      <td>0.398165</td>\n",
       "      <td>0.304029</td>\n",
       "      <td>0.283157</td>\n",
       "      <td>0.331403</td>\n",
       "      <td>0.124675</td>\n",
       "      <td>0.191365</td>\n",
       "    </tr>\n",
       "    <tr>\n",
       "      <th>Q002</th>\n",
       "      <td>0.114073</td>\n",
       "      <td>0.418236</td>\n",
       "      <td>0.350618</td>\n",
       "      <td>1.000000</td>\n",
       "      <td>0.289782</td>\n",
       "      <td>0.390883</td>\n",
       "      <td>0.253641</td>\n",
       "      <td>0.327991</td>\n",
       "      <td>0.101841</td>\n",
       "      <td>0.178570</td>\n",
       "    </tr>\n",
       "    <tr>\n",
       "      <th>Q003</th>\n",
       "      <td>0.134724</td>\n",
       "      <td>0.503397</td>\n",
       "      <td>0.398165</td>\n",
       "      <td>0.289782</td>\n",
       "      <td>1.000000</td>\n",
       "      <td>0.475868</td>\n",
       "      <td>0.397594</td>\n",
       "      <td>0.384696</td>\n",
       "      <td>0.155769</td>\n",
       "      <td>0.272092</td>\n",
       "    </tr>\n",
       "    <tr>\n",
       "      <th>Q004</th>\n",
       "      <td>0.126948</td>\n",
       "      <td>0.480007</td>\n",
       "      <td>0.304029</td>\n",
       "      <td>0.390883</td>\n",
       "      <td>0.475868</td>\n",
       "      <td>1.000000</td>\n",
       "      <td>0.380325</td>\n",
       "      <td>0.381136</td>\n",
       "      <td>0.164418</td>\n",
       "      <td>0.256951</td>\n",
       "    </tr>\n",
       "    <tr>\n",
       "      <th>Q006</th>\n",
       "      <td>0.176301</td>\n",
       "      <td>0.550655</td>\n",
       "      <td>0.283157</td>\n",
       "      <td>0.253641</td>\n",
       "      <td>0.397594</td>\n",
       "      <td>0.380325</td>\n",
       "      <td>1.000000</td>\n",
       "      <td>0.447341</td>\n",
       "      <td>0.224696</td>\n",
       "      <td>0.263069</td>\n",
       "    </tr>\n",
       "    <tr>\n",
       "      <th>Q025</th>\n",
       "      <td>0.209535</td>\n",
       "      <td>0.204777</td>\n",
       "      <td>0.331403</td>\n",
       "      <td>0.327991</td>\n",
       "      <td>0.384696</td>\n",
       "      <td>0.381136</td>\n",
       "      <td>0.447341</td>\n",
       "      <td>1.000000</td>\n",
       "      <td>0.307473</td>\n",
       "      <td>0.343296</td>\n",
       "    </tr>\n",
       "    <tr>\n",
       "      <th>REGION</th>\n",
       "      <td>0.193819</td>\n",
       "      <td>0.119452</td>\n",
       "      <td>0.124675</td>\n",
       "      <td>0.101841</td>\n",
       "      <td>0.155769</td>\n",
       "      <td>0.164418</td>\n",
       "      <td>0.224696</td>\n",
       "      <td>0.307473</td>\n",
       "      <td>1.000000</td>\n",
       "      <td>0.116143</td>\n",
       "    </tr>\n",
       "    <tr>\n",
       "      <th>HOUSE</th>\n",
       "      <td>0.132568</td>\n",
       "      <td>0.453107</td>\n",
       "      <td>0.191365</td>\n",
       "      <td>0.178570</td>\n",
       "      <td>0.272092</td>\n",
       "      <td>0.256951</td>\n",
       "      <td>0.263069</td>\n",
       "      <td>0.343296</td>\n",
       "      <td>0.116143</td>\n",
       "      <td>1.000000</td>\n",
       "    </tr>\n",
       "  </tbody>\n",
       "</table>\n",
       "</div>"
      ],
      "text/plain": [
       "             TP_COR_RACA  TP_ESCOLA      Q001      Q002      Q003      Q004  \\\n",
       "TP_COR_RACA     1.000000   0.230731  0.127700  0.114073  0.134724  0.126948   \n",
       "TP_ESCOLA       0.230731   1.000000  0.447406  0.418236  0.503397  0.480007   \n",
       "Q001            0.127700   0.447406  1.000000  0.350618  0.398165  0.304029   \n",
       "Q002            0.114073   0.418236  0.350618  1.000000  0.289782  0.390883   \n",
       "Q003            0.134724   0.503397  0.398165  0.289782  1.000000  0.475868   \n",
       "Q004            0.126948   0.480007  0.304029  0.390883  0.475868  1.000000   \n",
       "Q006            0.176301   0.550655  0.283157  0.253641  0.397594  0.380325   \n",
       "Q025            0.209535   0.204777  0.331403  0.327991  0.384696  0.381136   \n",
       "REGION          0.193819   0.119452  0.124675  0.101841  0.155769  0.164418   \n",
       "HOUSE           0.132568   0.453107  0.191365  0.178570  0.272092  0.256951   \n",
       "\n",
       "                 Q006      Q025    REGION     HOUSE  \n",
       "TP_COR_RACA  0.176301  0.209535  0.193819  0.132568  \n",
       "TP_ESCOLA    0.550655  0.204777  0.119452  0.453107  \n",
       "Q001         0.283157  0.331403  0.124675  0.191365  \n",
       "Q002         0.253641  0.327991  0.101841  0.178570  \n",
       "Q003         0.397594  0.384696  0.155769  0.272092  \n",
       "Q004         0.380325  0.381136  0.164418  0.256951  \n",
       "Q006         1.000000  0.447341  0.224696  0.263069  \n",
       "Q025         0.447341  1.000000  0.307473  0.343296  \n",
       "REGION       0.224696  0.307473  1.000000  0.116143  \n",
       "HOUSE        0.263069  0.343296  0.116143  1.000000  "
      ]
     },
     "execution_count": 61,
     "metadata": {},
     "output_type": "execute_result"
    }
   ],
   "source": [
    "variables_selected = ['TP_COR_RACA', 'TP_ESCOLA', 'Q001', 'Q002', 'Q003', 'Q004', 'Q006', 'Q025', 'REGION', 'HOUSE']\n",
    "\n",
    "factors_paired = [(i,j) for i in variables_selected\n",
    "                  for j in variables_selected] \n",
    "\n",
    "corr = []\n",
    "\n",
    "for f in factors_paired:\n",
    "    if f[0] != f[1]:\n",
    "        chitest = cramers_v(df[f[0]], df[f[1]])\n",
    "        corr.append(chitest)\n",
    "    else:      # for same factor pair\n",
    "        corr.append(1)\n",
    "\n",
    "matrix_corr = np.array(corr).reshape((len(variables_selected),len(variables_selected))) # shape it as a matrix\n",
    "matrix_corr = pd.DataFrame(matrix_corr, index=variables_selected, columns=variables_selected) # then a df for convenience\n",
    "matrix_corr"
   ]
  },
  {
   "cell_type": "markdown",
   "metadata": {},
   "source": [
    "## General Description transforming to numeric values"
   ]
  },
  {
   "cell_type": "code",
   "execution_count": 62,
   "metadata": {},
   "outputs": [
    {
     "data": {
      "text/html": [
       "<div>\n",
       "<style scoped>\n",
       "    .dataframe tbody tr th:only-of-type {\n",
       "        vertical-align: middle;\n",
       "    }\n",
       "\n",
       "    .dataframe tbody tr th {\n",
       "        vertical-align: top;\n",
       "    }\n",
       "\n",
       "    .dataframe thead th {\n",
       "        text-align: right;\n",
       "    }\n",
       "</style>\n",
       "<table border=\"1\" class=\"dataframe\">\n",
       "  <thead>\n",
       "    <tr style=\"text-align: right;\">\n",
       "      <th></th>\n",
       "      <th>NU_NOTA_MT</th>\n",
       "      <th>TP_COR_RACA</th>\n",
       "      <th>TP_ESCOLA</th>\n",
       "      <th>CO_UF_RESIDENCIA</th>\n",
       "      <th>Q008</th>\n",
       "      <th>Q009</th>\n",
       "      <th>REGION</th>\n",
       "      <th>HOUSE</th>\n",
       "    </tr>\n",
       "  </thead>\n",
       "  <tbody>\n",
       "    <tr>\n",
       "      <th>count</th>\n",
       "      <td>46505.000000</td>\n",
       "      <td>46505.000000</td>\n",
       "      <td>46505.000000</td>\n",
       "      <td>46505.000000</td>\n",
       "      <td>46505.000000</td>\n",
       "      <td>46505.000000</td>\n",
       "      <td>46505.000000</td>\n",
       "      <td>46505.000000</td>\n",
       "    </tr>\n",
       "    <tr>\n",
       "      <th>mean</th>\n",
       "      <td>529.823896</td>\n",
       "      <td>2.080593</td>\n",
       "      <td>2.184625</td>\n",
       "      <td>31.657736</td>\n",
       "      <td>1.488528</td>\n",
       "      <td>2.371616</td>\n",
       "      <td>2.798280</td>\n",
       "      <td>3.860144</td>\n",
       "    </tr>\n",
       "    <tr>\n",
       "      <th>std</th>\n",
       "      <td>110.556335</td>\n",
       "      <td>0.997135</td>\n",
       "      <td>0.387997</td>\n",
       "      <td>9.620208</td>\n",
       "      <td>0.814697</td>\n",
       "      <td>0.756896</td>\n",
       "      <td>1.042457</td>\n",
       "      <td>1.373613</td>\n",
       "    </tr>\n",
       "    <tr>\n",
       "      <th>min</th>\n",
       "      <td>0.000000</td>\n",
       "      <td>1.000000</td>\n",
       "      <td>2.000000</td>\n",
       "      <td>11.000000</td>\n",
       "      <td>0.000000</td>\n",
       "      <td>0.000000</td>\n",
       "      <td>1.000000</td>\n",
       "      <td>0.000000</td>\n",
       "    </tr>\n",
       "    <tr>\n",
       "      <th>25%</th>\n",
       "      <td>440.400000</td>\n",
       "      <td>1.000000</td>\n",
       "      <td>2.000000</td>\n",
       "      <td>25.000000</td>\n",
       "      <td>1.000000</td>\n",
       "      <td>2.000000</td>\n",
       "      <td>2.000000</td>\n",
       "      <td>3.000000</td>\n",
       "    </tr>\n",
       "    <tr>\n",
       "      <th>50%</th>\n",
       "      <td>508.000000</td>\n",
       "      <td>2.000000</td>\n",
       "      <td>2.000000</td>\n",
       "      <td>31.000000</td>\n",
       "      <td>1.000000</td>\n",
       "      <td>2.000000</td>\n",
       "      <td>3.000000</td>\n",
       "      <td>4.000000</td>\n",
       "    </tr>\n",
       "    <tr>\n",
       "      <th>75%</th>\n",
       "      <td>607.700000</td>\n",
       "      <td>3.000000</td>\n",
       "      <td>2.000000</td>\n",
       "      <td>35.000000</td>\n",
       "      <td>2.000000</td>\n",
       "      <td>3.000000</td>\n",
       "      <td>3.000000</td>\n",
       "      <td>5.000000</td>\n",
       "    </tr>\n",
       "    <tr>\n",
       "      <th>max</th>\n",
       "      <td>985.000000</td>\n",
       "      <td>5.000000</td>\n",
       "      <td>3.000000</td>\n",
       "      <td>53.000000</td>\n",
       "      <td>4.000000</td>\n",
       "      <td>4.000000</td>\n",
       "      <td>5.000000</td>\n",
       "      <td>8.000000</td>\n",
       "    </tr>\n",
       "  </tbody>\n",
       "</table>\n",
       "</div>"
      ],
      "text/plain": [
       "         NU_NOTA_MT   TP_COR_RACA     TP_ESCOLA  CO_UF_RESIDENCIA  \\\n",
       "count  46505.000000  46505.000000  46505.000000      46505.000000   \n",
       "mean     529.823896      2.080593      2.184625         31.657736   \n",
       "std      110.556335      0.997135      0.387997          9.620208   \n",
       "min        0.000000      1.000000      2.000000         11.000000   \n",
       "25%      440.400000      1.000000      2.000000         25.000000   \n",
       "50%      508.000000      2.000000      2.000000         31.000000   \n",
       "75%      607.700000      3.000000      2.000000         35.000000   \n",
       "max      985.000000      5.000000      3.000000         53.000000   \n",
       "\n",
       "               Q008          Q009        REGION         HOUSE  \n",
       "count  46505.000000  46505.000000  46505.000000  46505.000000  \n",
       "mean       1.488528      2.371616      2.798280      3.860144  \n",
       "std        0.814697      0.756896      1.042457      1.373613  \n",
       "min        0.000000      0.000000      1.000000      0.000000  \n",
       "25%        1.000000      2.000000      2.000000      3.000000  \n",
       "50%        1.000000      2.000000      3.000000      4.000000  \n",
       "75%        2.000000      3.000000      3.000000      5.000000  \n",
       "max        4.000000      4.000000      5.000000      8.000000  "
      ]
     },
     "execution_count": 62,
     "metadata": {},
     "output_type": "execute_result"
    }
   ],
   "source": [
    "df.shape\n",
    "df.describe()"
   ]
  },
  {
   "cell_type": "code",
   "execution_count": 63,
   "metadata": {},
   "outputs": [],
   "source": [
    "## Transforming string data into integer\n",
    "\n",
    "df.Q001 = [ ord(x) - 65 for x in df.Q001]\n",
    "df.Q002 = [ ord(x) - 65 for x in df.Q002]\n",
    "df.Q003 = [ ord(x) - 65 for x in df.Q003]\n",
    "df.Q004 = [ ord(x) - 65 for x in df.Q004]\n",
    "df.Q006 = [ ord(x) - 65 for x in df.Q006]\n",
    "df.Q025 = [ ord(x) - 65 for x in df.Q025]"
   ]
  },
  {
   "cell_type": "code",
   "execution_count": 64,
   "metadata": {},
   "outputs": [
    {
     "data": {
      "text/html": [
       "<div>\n",
       "<style scoped>\n",
       "    .dataframe tbody tr th:only-of-type {\n",
       "        vertical-align: middle;\n",
       "    }\n",
       "\n",
       "    .dataframe tbody tr th {\n",
       "        vertical-align: top;\n",
       "    }\n",
       "\n",
       "    .dataframe thead th {\n",
       "        text-align: right;\n",
       "    }\n",
       "</style>\n",
       "<table border=\"1\" class=\"dataframe\">\n",
       "  <thead>\n",
       "    <tr style=\"text-align: right;\">\n",
       "      <th></th>\n",
       "      <th>NU_NOTA_MT</th>\n",
       "      <th>TP_COR_RACA</th>\n",
       "      <th>TP_ESCOLA</th>\n",
       "      <th>CO_UF_RESIDENCIA</th>\n",
       "      <th>Q001</th>\n",
       "      <th>Q002</th>\n",
       "      <th>Q003</th>\n",
       "      <th>Q004</th>\n",
       "      <th>Q006</th>\n",
       "      <th>Q008</th>\n",
       "      <th>Q009</th>\n",
       "      <th>Q025</th>\n",
       "      <th>REGION</th>\n",
       "      <th>HOUSE</th>\n",
       "    </tr>\n",
       "  </thead>\n",
       "  <tbody>\n",
       "    <tr>\n",
       "      <th>count</th>\n",
       "      <td>46505.00</td>\n",
       "      <td>46505.00</td>\n",
       "      <td>46505.00</td>\n",
       "      <td>46505.00</td>\n",
       "      <td>46505.00</td>\n",
       "      <td>46505.00</td>\n",
       "      <td>46505.00</td>\n",
       "      <td>46505.00</td>\n",
       "      <td>46505.00</td>\n",
       "      <td>46505.00</td>\n",
       "      <td>46505.00</td>\n",
       "      <td>46505.0</td>\n",
       "      <td>46505.00</td>\n",
       "      <td>46505.00</td>\n",
       "    </tr>\n",
       "    <tr>\n",
       "      <th>mean</th>\n",
       "      <td>529.82</td>\n",
       "      <td>2.08</td>\n",
       "      <td>2.18</td>\n",
       "      <td>31.66</td>\n",
       "      <td>3.07</td>\n",
       "      <td>3.50</td>\n",
       "      <td>1.74</td>\n",
       "      <td>1.61</td>\n",
       "      <td>4.10</td>\n",
       "      <td>1.49</td>\n",
       "      <td>2.37</td>\n",
       "      <td>0.8</td>\n",
       "      <td>2.80</td>\n",
       "      <td>3.86</td>\n",
       "    </tr>\n",
       "    <tr>\n",
       "      <th>std</th>\n",
       "      <td>110.56</td>\n",
       "      <td>1.00</td>\n",
       "      <td>0.39</td>\n",
       "      <td>9.62</td>\n",
       "      <td>1.58</td>\n",
       "      <td>1.54</td>\n",
       "      <td>1.23</td>\n",
       "      <td>1.19</td>\n",
       "      <td>3.74</td>\n",
       "      <td>0.81</td>\n",
       "      <td>0.76</td>\n",
       "      <td>0.4</td>\n",
       "      <td>1.04</td>\n",
       "      <td>1.37</td>\n",
       "    </tr>\n",
       "    <tr>\n",
       "      <th>min</th>\n",
       "      <td>0.00</td>\n",
       "      <td>1.00</td>\n",
       "      <td>2.00</td>\n",
       "      <td>11.00</td>\n",
       "      <td>0.00</td>\n",
       "      <td>0.00</td>\n",
       "      <td>0.00</td>\n",
       "      <td>0.00</td>\n",
       "      <td>0.00</td>\n",
       "      <td>0.00</td>\n",
       "      <td>0.00</td>\n",
       "      <td>0.0</td>\n",
       "      <td>1.00</td>\n",
       "      <td>0.00</td>\n",
       "    </tr>\n",
       "    <tr>\n",
       "      <th>25%</th>\n",
       "      <td>440.40</td>\n",
       "      <td>1.00</td>\n",
       "      <td>2.00</td>\n",
       "      <td>25.00</td>\n",
       "      <td>2.00</td>\n",
       "      <td>2.00</td>\n",
       "      <td>1.00</td>\n",
       "      <td>1.00</td>\n",
       "      <td>1.00</td>\n",
       "      <td>1.00</td>\n",
       "      <td>2.00</td>\n",
       "      <td>1.0</td>\n",
       "      <td>2.00</td>\n",
       "      <td>3.00</td>\n",
       "    </tr>\n",
       "    <tr>\n",
       "      <th>50%</th>\n",
       "      <td>508.00</td>\n",
       "      <td>2.00</td>\n",
       "      <td>2.00</td>\n",
       "      <td>31.00</td>\n",
       "      <td>3.00</td>\n",
       "      <td>4.00</td>\n",
       "      <td>2.00</td>\n",
       "      <td>1.00</td>\n",
       "      <td>3.00</td>\n",
       "      <td>1.00</td>\n",
       "      <td>2.00</td>\n",
       "      <td>1.0</td>\n",
       "      <td>3.00</td>\n",
       "      <td>4.00</td>\n",
       "    </tr>\n",
       "    <tr>\n",
       "      <th>75%</th>\n",
       "      <td>607.70</td>\n",
       "      <td>3.00</td>\n",
       "      <td>2.00</td>\n",
       "      <td>35.00</td>\n",
       "      <td>4.00</td>\n",
       "      <td>4.00</td>\n",
       "      <td>3.00</td>\n",
       "      <td>3.00</td>\n",
       "      <td>6.00</td>\n",
       "      <td>2.00</td>\n",
       "      <td>3.00</td>\n",
       "      <td>1.0</td>\n",
       "      <td>3.00</td>\n",
       "      <td>5.00</td>\n",
       "    </tr>\n",
       "    <tr>\n",
       "      <th>max</th>\n",
       "      <td>985.00</td>\n",
       "      <td>5.00</td>\n",
       "      <td>3.00</td>\n",
       "      <td>53.00</td>\n",
       "      <td>6.00</td>\n",
       "      <td>6.00</td>\n",
       "      <td>4.00</td>\n",
       "      <td>4.00</td>\n",
       "      <td>16.00</td>\n",
       "      <td>4.00</td>\n",
       "      <td>4.00</td>\n",
       "      <td>1.0</td>\n",
       "      <td>5.00</td>\n",
       "      <td>8.00</td>\n",
       "    </tr>\n",
       "  </tbody>\n",
       "</table>\n",
       "</div>"
      ],
      "text/plain": [
       "       NU_NOTA_MT  TP_COR_RACA  TP_ESCOLA  CO_UF_RESIDENCIA      Q001  \\\n",
       "count    46505.00     46505.00   46505.00          46505.00  46505.00   \n",
       "mean       529.82         2.08       2.18             31.66      3.07   \n",
       "std        110.56         1.00       0.39              9.62      1.58   \n",
       "min          0.00         1.00       2.00             11.00      0.00   \n",
       "25%        440.40         1.00       2.00             25.00      2.00   \n",
       "50%        508.00         2.00       2.00             31.00      3.00   \n",
       "75%        607.70         3.00       2.00             35.00      4.00   \n",
       "max        985.00         5.00       3.00             53.00      6.00   \n",
       "\n",
       "           Q002      Q003      Q004      Q006      Q008      Q009     Q025  \\\n",
       "count  46505.00  46505.00  46505.00  46505.00  46505.00  46505.00  46505.0   \n",
       "mean       3.50      1.74      1.61      4.10      1.49      2.37      0.8   \n",
       "std        1.54      1.23      1.19      3.74      0.81      0.76      0.4   \n",
       "min        0.00      0.00      0.00      0.00      0.00      0.00      0.0   \n",
       "25%        2.00      1.00      1.00      1.00      1.00      2.00      1.0   \n",
       "50%        4.00      2.00      1.00      3.00      1.00      2.00      1.0   \n",
       "75%        4.00      3.00      3.00      6.00      2.00      3.00      1.0   \n",
       "max        6.00      4.00      4.00     16.00      4.00      4.00      1.0   \n",
       "\n",
       "         REGION     HOUSE  \n",
       "count  46505.00  46505.00  \n",
       "mean       2.80      3.86  \n",
       "std        1.04      1.37  \n",
       "min        1.00      0.00  \n",
       "25%        2.00      3.00  \n",
       "50%        3.00      4.00  \n",
       "75%        3.00      5.00  \n",
       "max        5.00      8.00  "
      ]
     },
     "execution_count": 64,
     "metadata": {},
     "output_type": "execute_result"
    }
   ],
   "source": [
    "df.describe().round(2)"
   ]
  },
  {
   "cell_type": "code",
   "execution_count": 65,
   "metadata": {},
   "outputs": [
    {
     "data": {
      "text/html": [
       "<div>\n",
       "<style scoped>\n",
       "    .dataframe tbody tr th:only-of-type {\n",
       "        vertical-align: middle;\n",
       "    }\n",
       "\n",
       "    .dataframe tbody tr th {\n",
       "        vertical-align: top;\n",
       "    }\n",
       "\n",
       "    .dataframe thead th {\n",
       "        text-align: right;\n",
       "    }\n",
       "</style>\n",
       "<table border=\"1\" class=\"dataframe\">\n",
       "  <thead>\n",
       "    <tr style=\"text-align: right;\">\n",
       "      <th></th>\n",
       "      <th>NU_NOTA_MT</th>\n",
       "      <th>TP_COR_RACA</th>\n",
       "      <th>TP_ESCOLA</th>\n",
       "      <th>CO_UF_RESIDENCIA</th>\n",
       "      <th>Q001</th>\n",
       "      <th>Q002</th>\n",
       "      <th>Q003</th>\n",
       "      <th>Q004</th>\n",
       "      <th>Q006</th>\n",
       "      <th>Q008</th>\n",
       "      <th>Q009</th>\n",
       "      <th>Q025</th>\n",
       "      <th>REGION</th>\n",
       "      <th>HOUSE</th>\n",
       "    </tr>\n",
       "  </thead>\n",
       "  <tbody>\n",
       "    <tr>\n",
       "      <th>NU_NOTA_MT</th>\n",
       "      <td>1.000000</td>\n",
       "      <td>-0.223029</td>\n",
       "      <td>0.416191</td>\n",
       "      <td>0.139578</td>\n",
       "      <td>0.372592</td>\n",
       "      <td>0.353491</td>\n",
       "      <td>0.380849</td>\n",
       "      <td>0.374624</td>\n",
       "      <td>0.489893</td>\n",
       "      <td>0.387173</td>\n",
       "      <td>0.240688</td>\n",
       "      <td>0.245790</td>\n",
       "      <td>0.138237</td>\n",
       "      <td>0.362260</td>\n",
       "    </tr>\n",
       "    <tr>\n",
       "      <th>TP_COR_RACA</th>\n",
       "      <td>-0.223029</td>\n",
       "      <td>1.000000</td>\n",
       "      <td>-0.203147</td>\n",
       "      <td>-0.253535</td>\n",
       "      <td>-0.221539</td>\n",
       "      <td>-0.194752</td>\n",
       "      <td>-0.229784</td>\n",
       "      <td>-0.220507</td>\n",
       "      <td>-0.298077</td>\n",
       "      <td>-0.232039</td>\n",
       "      <td>-0.167783</td>\n",
       "      <td>-0.195226</td>\n",
       "      <td>-0.250084</td>\n",
       "      <td>-0.230076</td>\n",
       "    </tr>\n",
       "    <tr>\n",
       "      <th>TP_ESCOLA</th>\n",
       "      <td>0.416191</td>\n",
       "      <td>-0.203147</td>\n",
       "      <td>1.000000</td>\n",
       "      <td>0.066785</td>\n",
       "      <td>0.398510</td>\n",
       "      <td>0.371989</td>\n",
       "      <td>0.440159</td>\n",
       "      <td>0.442177</td>\n",
       "      <td>0.542891</td>\n",
       "      <td>0.482417</td>\n",
       "      <td>0.264063</td>\n",
       "      <td>0.204897</td>\n",
       "      <td>0.050186</td>\n",
       "      <td>0.431629</td>\n",
       "    </tr>\n",
       "    <tr>\n",
       "      <th>CO_UF_RESIDENCIA</th>\n",
       "      <td>0.139578</td>\n",
       "      <td>-0.253535</td>\n",
       "      <td>0.066785</td>\n",
       "      <td>1.000000</td>\n",
       "      <td>0.159787</td>\n",
       "      <td>0.136981</td>\n",
       "      <td>0.199392</td>\n",
       "      <td>0.174162</td>\n",
       "      <td>0.246717</td>\n",
       "      <td>0.147510</td>\n",
       "      <td>0.156403</td>\n",
       "      <td>0.260713</td>\n",
       "      <td>0.977050</td>\n",
       "      <td>0.173671</td>\n",
       "    </tr>\n",
       "    <tr>\n",
       "      <th>Q001</th>\n",
       "      <td>0.372592</td>\n",
       "      <td>-0.221539</td>\n",
       "      <td>0.398510</td>\n",
       "      <td>0.159787</td>\n",
       "      <td>1.000000</td>\n",
       "      <td>0.601715</td>\n",
       "      <td>0.611115</td>\n",
       "      <td>0.508453</td>\n",
       "      <td>0.546591</td>\n",
       "      <td>0.421790</td>\n",
       "      <td>0.255600</td>\n",
       "      <td>0.323487</td>\n",
       "      <td>0.150385</td>\n",
       "      <td>0.391008</td>\n",
       "    </tr>\n",
       "    <tr>\n",
       "      <th>Q002</th>\n",
       "      <td>0.353491</td>\n",
       "      <td>-0.194752</td>\n",
       "      <td>0.371989</td>\n",
       "      <td>0.136981</td>\n",
       "      <td>0.601715</td>\n",
       "      <td>1.000000</td>\n",
       "      <td>0.493303</td>\n",
       "      <td>0.638855</td>\n",
       "      <td>0.513945</td>\n",
       "      <td>0.392227</td>\n",
       "      <td>0.253194</td>\n",
       "      <td>0.322013</td>\n",
       "      <td>0.128438</td>\n",
       "      <td>0.372148</td>\n",
       "    </tr>\n",
       "    <tr>\n",
       "      <th>Q003</th>\n",
       "      <td>0.380849</td>\n",
       "      <td>-0.229784</td>\n",
       "      <td>0.440159</td>\n",
       "      <td>0.199392</td>\n",
       "      <td>0.611115</td>\n",
       "      <td>0.493303</td>\n",
       "      <td>1.000000</td>\n",
       "      <td>0.625558</td>\n",
       "      <td>0.603518</td>\n",
       "      <td>0.474723</td>\n",
       "      <td>0.281961</td>\n",
       "      <td>0.364034</td>\n",
       "      <td>0.188402</td>\n",
       "      <td>0.436928</td>\n",
       "    </tr>\n",
       "    <tr>\n",
       "      <th>Q004</th>\n",
       "      <td>0.374624</td>\n",
       "      <td>-0.220507</td>\n",
       "      <td>0.442177</td>\n",
       "      <td>0.174162</td>\n",
       "      <td>0.508453</td>\n",
       "      <td>0.638855</td>\n",
       "      <td>0.625558</td>\n",
       "      <td>1.000000</td>\n",
       "      <td>0.599008</td>\n",
       "      <td>0.470703</td>\n",
       "      <td>0.287097</td>\n",
       "      <td>0.334021</td>\n",
       "      <td>0.165756</td>\n",
       "      <td>0.437374</td>\n",
       "    </tr>\n",
       "    <tr>\n",
       "      <th>Q006</th>\n",
       "      <td>0.489893</td>\n",
       "      <td>-0.298077</td>\n",
       "      <td>0.542891</td>\n",
       "      <td>0.246717</td>\n",
       "      <td>0.546591</td>\n",
       "      <td>0.513945</td>\n",
       "      <td>0.603518</td>\n",
       "      <td>0.599008</td>\n",
       "      <td>1.000000</td>\n",
       "      <td>0.643847</td>\n",
       "      <td>0.425142</td>\n",
       "      <td>0.338140</td>\n",
       "      <td>0.242129</td>\n",
       "      <td>0.616133</td>\n",
       "    </tr>\n",
       "    <tr>\n",
       "      <th>Q008</th>\n",
       "      <td>0.387173</td>\n",
       "      <td>-0.232039</td>\n",
       "      <td>0.482417</td>\n",
       "      <td>0.147510</td>\n",
       "      <td>0.421790</td>\n",
       "      <td>0.392227</td>\n",
       "      <td>0.474723</td>\n",
       "      <td>0.470703</td>\n",
       "      <td>0.643847</td>\n",
       "      <td>1.000000</td>\n",
       "      <td>0.527205</td>\n",
       "      <td>0.270602</td>\n",
       "      <td>0.140039</td>\n",
       "      <td>0.883608</td>\n",
       "    </tr>\n",
       "    <tr>\n",
       "      <th>Q009</th>\n",
       "      <td>0.240688</td>\n",
       "      <td>-0.167783</td>\n",
       "      <td>0.264063</td>\n",
       "      <td>0.156403</td>\n",
       "      <td>0.255600</td>\n",
       "      <td>0.253194</td>\n",
       "      <td>0.281961</td>\n",
       "      <td>0.287097</td>\n",
       "      <td>0.425142</td>\n",
       "      <td>0.527205</td>\n",
       "      <td>1.000000</td>\n",
       "      <td>0.268401</td>\n",
       "      <td>0.160279</td>\n",
       "      <td>0.863713</td>\n",
       "    </tr>\n",
       "    <tr>\n",
       "      <th>Q025</th>\n",
       "      <td>0.245790</td>\n",
       "      <td>-0.195226</td>\n",
       "      <td>0.204897</td>\n",
       "      <td>0.260713</td>\n",
       "      <td>0.323487</td>\n",
       "      <td>0.322013</td>\n",
       "      <td>0.364034</td>\n",
       "      <td>0.334021</td>\n",
       "      <td>0.338140</td>\n",
       "      <td>0.270602</td>\n",
       "      <td>0.268401</td>\n",
       "      <td>1.000000</td>\n",
       "      <td>0.241528</td>\n",
       "      <td>0.308391</td>\n",
       "    </tr>\n",
       "    <tr>\n",
       "      <th>REGION</th>\n",
       "      <td>0.138237</td>\n",
       "      <td>-0.250084</td>\n",
       "      <td>0.050186</td>\n",
       "      <td>0.977050</td>\n",
       "      <td>0.150385</td>\n",
       "      <td>0.128438</td>\n",
       "      <td>0.188402</td>\n",
       "      <td>0.165756</td>\n",
       "      <td>0.242129</td>\n",
       "      <td>0.140039</td>\n",
       "      <td>0.160279</td>\n",
       "      <td>0.241528</td>\n",
       "      <td>1.000000</td>\n",
       "      <td>0.171376</td>\n",
       "    </tr>\n",
       "    <tr>\n",
       "      <th>HOUSE</th>\n",
       "      <td>0.362260</td>\n",
       "      <td>-0.230076</td>\n",
       "      <td>0.431629</td>\n",
       "      <td>0.173671</td>\n",
       "      <td>0.391008</td>\n",
       "      <td>0.372148</td>\n",
       "      <td>0.436928</td>\n",
       "      <td>0.437374</td>\n",
       "      <td>0.616133</td>\n",
       "      <td>0.883608</td>\n",
       "      <td>0.863713</td>\n",
       "      <td>0.308391</td>\n",
       "      <td>0.171376</td>\n",
       "      <td>1.000000</td>\n",
       "    </tr>\n",
       "  </tbody>\n",
       "</table>\n",
       "</div>"
      ],
      "text/plain": [
       "                  NU_NOTA_MT  TP_COR_RACA  TP_ESCOLA  CO_UF_RESIDENCIA  \\\n",
       "NU_NOTA_MT          1.000000    -0.223029   0.416191          0.139578   \n",
       "TP_COR_RACA        -0.223029     1.000000  -0.203147         -0.253535   \n",
       "TP_ESCOLA           0.416191    -0.203147   1.000000          0.066785   \n",
       "CO_UF_RESIDENCIA    0.139578    -0.253535   0.066785          1.000000   \n",
       "Q001                0.372592    -0.221539   0.398510          0.159787   \n",
       "Q002                0.353491    -0.194752   0.371989          0.136981   \n",
       "Q003                0.380849    -0.229784   0.440159          0.199392   \n",
       "Q004                0.374624    -0.220507   0.442177          0.174162   \n",
       "Q006                0.489893    -0.298077   0.542891          0.246717   \n",
       "Q008                0.387173    -0.232039   0.482417          0.147510   \n",
       "Q009                0.240688    -0.167783   0.264063          0.156403   \n",
       "Q025                0.245790    -0.195226   0.204897          0.260713   \n",
       "REGION              0.138237    -0.250084   0.050186          0.977050   \n",
       "HOUSE               0.362260    -0.230076   0.431629          0.173671   \n",
       "\n",
       "                      Q001      Q002      Q003      Q004      Q006      Q008  \\\n",
       "NU_NOTA_MT        0.372592  0.353491  0.380849  0.374624  0.489893  0.387173   \n",
       "TP_COR_RACA      -0.221539 -0.194752 -0.229784 -0.220507 -0.298077 -0.232039   \n",
       "TP_ESCOLA         0.398510  0.371989  0.440159  0.442177  0.542891  0.482417   \n",
       "CO_UF_RESIDENCIA  0.159787  0.136981  0.199392  0.174162  0.246717  0.147510   \n",
       "Q001              1.000000  0.601715  0.611115  0.508453  0.546591  0.421790   \n",
       "Q002              0.601715  1.000000  0.493303  0.638855  0.513945  0.392227   \n",
       "Q003              0.611115  0.493303  1.000000  0.625558  0.603518  0.474723   \n",
       "Q004              0.508453  0.638855  0.625558  1.000000  0.599008  0.470703   \n",
       "Q006              0.546591  0.513945  0.603518  0.599008  1.000000  0.643847   \n",
       "Q008              0.421790  0.392227  0.474723  0.470703  0.643847  1.000000   \n",
       "Q009              0.255600  0.253194  0.281961  0.287097  0.425142  0.527205   \n",
       "Q025              0.323487  0.322013  0.364034  0.334021  0.338140  0.270602   \n",
       "REGION            0.150385  0.128438  0.188402  0.165756  0.242129  0.140039   \n",
       "HOUSE             0.391008  0.372148  0.436928  0.437374  0.616133  0.883608   \n",
       "\n",
       "                      Q009      Q025    REGION     HOUSE  \n",
       "NU_NOTA_MT        0.240688  0.245790  0.138237  0.362260  \n",
       "TP_COR_RACA      -0.167783 -0.195226 -0.250084 -0.230076  \n",
       "TP_ESCOLA         0.264063  0.204897  0.050186  0.431629  \n",
       "CO_UF_RESIDENCIA  0.156403  0.260713  0.977050  0.173671  \n",
       "Q001              0.255600  0.323487  0.150385  0.391008  \n",
       "Q002              0.253194  0.322013  0.128438  0.372148  \n",
       "Q003              0.281961  0.364034  0.188402  0.436928  \n",
       "Q004              0.287097  0.334021  0.165756  0.437374  \n",
       "Q006              0.425142  0.338140  0.242129  0.616133  \n",
       "Q008              0.527205  0.270602  0.140039  0.883608  \n",
       "Q009              1.000000  0.268401  0.160279  0.863713  \n",
       "Q025              0.268401  1.000000  0.241528  0.308391  \n",
       "REGION            0.160279  0.241528  1.000000  0.171376  \n",
       "HOUSE             0.863713  0.308391  0.171376  1.000000  "
      ]
     },
     "execution_count": 65,
     "metadata": {},
     "output_type": "execute_result"
    }
   ],
   "source": [
    "df.corr()"
   ]
  },
  {
   "cell_type": "markdown",
   "metadata": {},
   "source": [
    "## Export Final Dataset"
   ]
  },
  {
   "cell_type": "code",
   "execution_count": 66,
   "metadata": {},
   "outputs": [],
   "source": [
    "# Use this cell to export the final cleaned dataset, so we can use in another notebook for the regression analysis"
   ]
  },
  {
   "cell_type": "code",
   "execution_count": 67,
   "metadata": {},
   "outputs": [],
   "source": [
    "#df.to_parquet('final_enem.parquet', engine='pyarrow', compression='gzip')"
   ]
  },
  {
   "cell_type": "markdown",
   "metadata": {},
   "source": [
    "## Base Regression Model"
   ]
  },
  {
   "cell_type": "code",
   "execution_count": 68,
   "metadata": {},
   "outputs": [
    {
     "data": {
      "text/html": [
       "<table class=\"simpletable\">\n",
       "<caption>OLS Regression Results</caption>\n",
       "<tr>\n",
       "  <th>Dep. Variable:</th>       <td>NU_NOTA_MT</td>    <th>  R-squared:         </th>  <td>   0.244</td>  \n",
       "</tr>\n",
       "<tr>\n",
       "  <th>Model:</th>                   <td>OLS</td>       <th>  Adj. R-squared:    </th>  <td>   0.244</td>  \n",
       "</tr>\n",
       "<tr>\n",
       "  <th>Method:</th>             <td>Least Squares</td>  <th>  F-statistic:       </th>  <td>   939.4</td>  \n",
       "</tr>\n",
       "<tr>\n",
       "  <th>Date:</th>             <td>Tue, 18 May 2021</td> <th>  Prob (F-statistic):</th>   <td>  0.00</td>   \n",
       "</tr>\n",
       "<tr>\n",
       "  <th>Time:</th>                 <td>20:38:56</td>     <th>  Log-Likelihood:    </th> <td>-2.7830e+05</td>\n",
       "</tr>\n",
       "<tr>\n",
       "  <th>No. Observations:</th>      <td> 46505</td>      <th>  AIC:               </th>  <td>5.566e+05</td> \n",
       "</tr>\n",
       "<tr>\n",
       "  <th>Df Residuals:</th>          <td> 46488</td>      <th>  BIC:               </th>  <td>5.568e+05</td> \n",
       "</tr>\n",
       "<tr>\n",
       "  <th>Df Model:</th>              <td>    16</td>      <th>                     </th>      <td> </td>     \n",
       "</tr>\n",
       "<tr>\n",
       "  <th>Covariance Type:</th>      <td>nonrobust</td>    <th>                     </th>      <td> </td>     \n",
       "</tr>\n",
       "</table>\n",
       "<table class=\"simpletable\">\n",
       "<tr>\n",
       "        <td></td>           <th>coef</th>     <th>std err</th>      <th>t</th>      <th>P>|t|</th>  <th>[0.025</th>    <th>0.975]</th>  \n",
       "</tr>\n",
       "<tr>\n",
       "  <th>Intercept</th>     <td>  465.2478</td> <td>    2.253</td> <td>  206.545</td> <td> 0.000</td> <td>  460.833</td> <td>  469.663</td>\n",
       "</tr>\n",
       "<tr>\n",
       "  <th>C(Q006)[T.1]</th>  <td>   13.1572</td> <td>    2.440</td> <td>    5.393</td> <td> 0.000</td> <td>    8.375</td> <td>   17.939</td>\n",
       "</tr>\n",
       "<tr>\n",
       "  <th>C(Q006)[T.2]</th>  <td>   33.7563</td> <td>    2.439</td> <td>   13.838</td> <td> 0.000</td> <td>   28.975</td> <td>   38.538</td>\n",
       "</tr>\n",
       "<tr>\n",
       "  <th>C(Q006)[T.3]</th>  <td>   59.5065</td> <td>    2.713</td> <td>   21.936</td> <td> 0.000</td> <td>   54.190</td> <td>   64.823</td>\n",
       "</tr>\n",
       "<tr>\n",
       "  <th>C(Q006)[T.4]</th>  <td>   64.4642</td> <td>    2.658</td> <td>   24.249</td> <td> 0.000</td> <td>   59.254</td> <td>   69.675</td>\n",
       "</tr>\n",
       "<tr>\n",
       "  <th>C(Q006)[T.5]</th>  <td>   91.4737</td> <td>    3.028</td> <td>   30.208</td> <td> 0.000</td> <td>   85.539</td> <td>   97.409</td>\n",
       "</tr>\n",
       "<tr>\n",
       "  <th>C(Q006)[T.6]</th>  <td>   94.7314</td> <td>    2.799</td> <td>   33.843</td> <td> 0.000</td> <td>   89.245</td> <td>  100.218</td>\n",
       "</tr>\n",
       "<tr>\n",
       "  <th>C(Q006)[T.7]</th>  <td>  119.6875</td> <td>    3.079</td> <td>   38.873</td> <td> 0.000</td> <td>  113.653</td> <td>  125.722</td>\n",
       "</tr>\n",
       "<tr>\n",
       "  <th>C(Q006)[T.8]</th>  <td>  122.1147</td> <td>    3.216</td> <td>   37.967</td> <td> 0.000</td> <td>  115.811</td> <td>  128.419</td>\n",
       "</tr>\n",
       "<tr>\n",
       "  <th>C(Q006)[T.9]</th>  <td>  145.2167</td> <td>    3.891</td> <td>   37.323</td> <td> 0.000</td> <td>  137.591</td> <td>  152.843</td>\n",
       "</tr>\n",
       "<tr>\n",
       "  <th>C(Q006)[T.10]</th> <td>  142.6818</td> <td>    4.219</td> <td>   33.818</td> <td> 0.000</td> <td>  134.412</td> <td>  150.951</td>\n",
       "</tr>\n",
       "<tr>\n",
       "  <th>C(Q006)[T.11]</th> <td>  164.9989</td> <td>    4.589</td> <td>   35.955</td> <td> 0.000</td> <td>  156.004</td> <td>  173.994</td>\n",
       "</tr>\n",
       "<tr>\n",
       "  <th>C(Q006)[T.12]</th> <td>  161.9807</td> <td>    4.687</td> <td>   34.562</td> <td> 0.000</td> <td>  152.795</td> <td>  171.167</td>\n",
       "</tr>\n",
       "<tr>\n",
       "  <th>C(Q006)[T.13]</th> <td>  178.4089</td> <td>    4.138</td> <td>   43.118</td> <td> 0.000</td> <td>  170.299</td> <td>  186.519</td>\n",
       "</tr>\n",
       "<tr>\n",
       "  <th>C(Q006)[T.14]</th> <td>  193.7791</td> <td>    4.488</td> <td>   43.172</td> <td> 0.000</td> <td>  184.982</td> <td>  202.577</td>\n",
       "</tr>\n",
       "<tr>\n",
       "  <th>C(Q006)[T.15]</th> <td>  211.0068</td> <td>    4.654</td> <td>   45.336</td> <td> 0.000</td> <td>  201.884</td> <td>  220.129</td>\n",
       "</tr>\n",
       "<tr>\n",
       "  <th>C(Q006)[T.16]</th> <td>  234.1387</td> <td>    4.077</td> <td>   57.427</td> <td> 0.000</td> <td>  226.147</td> <td>  242.130</td>\n",
       "</tr>\n",
       "</table>\n",
       "<table class=\"simpletable\">\n",
       "<tr>\n",
       "  <th>Omnibus:</th>       <td>1087.474</td> <th>  Durbin-Watson:     </th> <td>   1.994</td> \n",
       "</tr>\n",
       "<tr>\n",
       "  <th>Prob(Omnibus):</th>  <td> 0.000</td>  <th>  Jarque-Bera (JB):  </th> <td>1165.480</td> \n",
       "</tr>\n",
       "<tr>\n",
       "  <th>Skew:</th>           <td> 0.388</td>  <th>  Prob(JB):          </th> <td>8.30e-254</td>\n",
       "</tr>\n",
       "<tr>\n",
       "  <th>Kurtosis:</th>       <td> 3.005</td>  <th>  Cond. No.          </th> <td>    23.3</td> \n",
       "</tr>\n",
       "</table><br/><br/>Warnings:<br/>[1] Standard Errors assume that the covariance matrix of the errors is correctly specified."
      ],
      "text/plain": [
       "<class 'statsmodels.iolib.summary.Summary'>\n",
       "\"\"\"\n",
       "                            OLS Regression Results                            \n",
       "==============================================================================\n",
       "Dep. Variable:             NU_NOTA_MT   R-squared:                       0.244\n",
       "Model:                            OLS   Adj. R-squared:                  0.244\n",
       "Method:                 Least Squares   F-statistic:                     939.4\n",
       "Date:                Tue, 18 May 2021   Prob (F-statistic):               0.00\n",
       "Time:                        20:38:56   Log-Likelihood:            -2.7830e+05\n",
       "No. Observations:               46505   AIC:                         5.566e+05\n",
       "Df Residuals:                   46488   BIC:                         5.568e+05\n",
       "Df Model:                          16                                         \n",
       "Covariance Type:            nonrobust                                         \n",
       "=================================================================================\n",
       "                    coef    std err          t      P>|t|      [0.025      0.975]\n",
       "---------------------------------------------------------------------------------\n",
       "Intercept       465.2478      2.253    206.545      0.000     460.833     469.663\n",
       "C(Q006)[T.1]     13.1572      2.440      5.393      0.000       8.375      17.939\n",
       "C(Q006)[T.2]     33.7563      2.439     13.838      0.000      28.975      38.538\n",
       "C(Q006)[T.3]     59.5065      2.713     21.936      0.000      54.190      64.823\n",
       "C(Q006)[T.4]     64.4642      2.658     24.249      0.000      59.254      69.675\n",
       "C(Q006)[T.5]     91.4737      3.028     30.208      0.000      85.539      97.409\n",
       "C(Q006)[T.6]     94.7314      2.799     33.843      0.000      89.245     100.218\n",
       "C(Q006)[T.7]    119.6875      3.079     38.873      0.000     113.653     125.722\n",
       "C(Q006)[T.8]    122.1147      3.216     37.967      0.000     115.811     128.419\n",
       "C(Q006)[T.9]    145.2167      3.891     37.323      0.000     137.591     152.843\n",
       "C(Q006)[T.10]   142.6818      4.219     33.818      0.000     134.412     150.951\n",
       "C(Q006)[T.11]   164.9989      4.589     35.955      0.000     156.004     173.994\n",
       "C(Q006)[T.12]   161.9807      4.687     34.562      0.000     152.795     171.167\n",
       "C(Q006)[T.13]   178.4089      4.138     43.118      0.000     170.299     186.519\n",
       "C(Q006)[T.14]   193.7791      4.488     43.172      0.000     184.982     202.577\n",
       "C(Q006)[T.15]   211.0068      4.654     45.336      0.000     201.884     220.129\n",
       "C(Q006)[T.16]   234.1387      4.077     57.427      0.000     226.147     242.130\n",
       "==============================================================================\n",
       "Omnibus:                     1087.474   Durbin-Watson:                   1.994\n",
       "Prob(Omnibus):                  0.000   Jarque-Bera (JB):             1165.480\n",
       "Skew:                           0.388   Prob(JB):                    8.30e-254\n",
       "Kurtosis:                       3.005   Cond. No.                         23.3\n",
       "==============================================================================\n",
       "\n",
       "Warnings:\n",
       "[1] Standard Errors assume that the covariance matrix of the errors is correctly specified.\n",
       "\"\"\""
      ]
     },
     "execution_count": 68,
     "metadata": {},
     "output_type": "execute_result"
    }
   ],
   "source": [
    "# deixei aqui p facilitar quando eu for perguntar p ela se precisa omitir tudo mesmo\n",
    "import statsmodels.formula.api as smf\n",
    "lm = smf.ols('NU_NOTA_MT ~ C(Q006)', data = df).fit()\n",
    "lm.summary()"
   ]
  }
 ],
 "metadata": {
  "kernelspec": {
   "display_name": "Python 3 (ipykernel)",
   "language": "python",
   "name": "python3"
  },
  "language_info": {
   "codemirror_mode": {
    "name": "ipython",
    "version": 3
   },
   "file_extension": ".py",
   "mimetype": "text/x-python",
   "name": "python",
   "nbconvert_exporter": "python",
   "pygments_lexer": "ipython3",
   "version": "3.8.3"
  }
 },
 "nbformat": 4,
 "nbformat_minor": 4
}
